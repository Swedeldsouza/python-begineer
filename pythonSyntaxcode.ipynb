{
 "cells": [
  {
   "cell_type": "code",
   "execution_count": 1,
   "metadata": {},
   "outputs": [
    {
     "name": "stdout",
     "output_type": "stream",
     "text": [
      "Enter your name:\n",
      "swedel\n",
      "Enter your age:\n",
      "24\n",
      "swedel  is eligible to vote.\n"
     ]
    }
   ],
   "source": [
    "'''\n",
    "set of rules and principles that describes the structure of a language\n",
    "\n",
    "'''\n",
    "\n",
    "#Simple Python Program to see if a user is eligible to vote or not.\n",
    "# getting user’s name \n",
    "print(\"Enter your name:\")\n",
    "name = input()\n",
    "\n",
    "# getting user’s age\n",
    "print(\"Enter your age:\")\n",
    "age = int(input())\n",
    "\n",
    "# condition to check if user is eligible or not\n",
    "if( age >= 18 ):\n",
    "    print( name, ' is eligible to vote.')\n",
    "else:\n",
    "    print( name, ' is not eligible to vote.')"
   ]
  },
  {
   "cell_type": "code",
   "execution_count": 3,
   "metadata": {},
   "outputs": [
    {
     "data": {
      "text/plain": [
       "'\\nPython Syntax\\n\\n1.line structure\\n2.comments\\n3.Docstrings\\n4.indentation\\n5.Quotations\\n6.Indentifiers\\n7.Variables\\n8.String Formatters\\n\\n'"
      ]
     },
     "execution_count": 3,
     "metadata": {},
     "output_type": "execute_result"
    }
   ],
   "source": [
    "'''\n",
    "Python Syntax\n",
    "\n",
    "1.line structure\n",
    "2.comments\n",
    "3.Docstrings\n",
    "4.indentation\n",
    "5.Quotations\n",
    "6.Indentifiers\n",
    "7.Variables\n",
    "8.String Formatters\n",
    "\n",
    "'''"
   ]
  },
  {
   "cell_type": "code",
   "execution_count": 10,
   "metadata": {},
   "outputs": [
    {
     "name": "stdout",
     "output_type": "stream",
     "text": [
      "Hi How are you?\n",
      "Hihow are you?\n",
      "10\n",
      "Hi\n",
      "       how are you?\n"
     ]
    },
    {
     "data": {
      "text/plain": [
       "'b=10'"
      ]
     },
     "execution_count": 10,
     "metadata": {},
     "output_type": "execute_result"
    }
   ],
   "source": [
    "'''\n",
    "1. Python Line Structure\n",
    "'''\n",
    "print(\"Hi How are you?\")\n",
    "\n",
    "\n",
    "\n",
    "'''\n",
    "2. Python Multiline Statements\n",
    "2.1. Use a backward slash\n",
    "'''\n",
    "print(\"Hi\\\n",
    "how are you?\")\n",
    "\n",
    "\n",
    "\n",
    "\n",
    "'''\n",
    "distribute a statement without a string across lines.\n",
    "'''\n",
    "a\\\n",
    "=\\\n",
    "10\n",
    "print(a)\n",
    "\n",
    "\n",
    "\n",
    "'''\n",
    "2.2. Put the String in Triple Quotes\n",
    "'''\n",
    "print(\"\"\"Hi\n",
    "       how are you?\"\"\")\n",
    "\"\"\"b\\\n",
    "=\\\n",
    "10\"\"\""
   ]
  },
  {
   "cell_type": "code",
   "execution_count": 11,
   "metadata": {},
   "outputs": [
    {
     "data": {
      "text/plain": [
       "'\\n3. Python Comments\\n\\n'"
      ]
     },
     "execution_count": 11,
     "metadata": {},
     "output_type": "execute_result"
    }
   ],
   "source": [
    "'''\n",
    "3. Python Comments\n",
    "\n",
    "'''\n",
    "#This is a comment"
   ]
  },
  {
   "cell_type": "code",
   "execution_count": 40,
   "metadata": {},
   "outputs": [
    {
     "name": "stdout",
     "output_type": "stream",
     "text": [
      "Hi\n"
     ]
    }
   ],
   "source": [
    "'''\n",
    "4. Python Docstrings\n",
    "    Declaring Docstrings\n",
    "    Accessing Docstrings: \n",
    "    \n",
    "    Multi-line Docstrings\n",
    "    One-line Docstrings \n",
    "'''\n",
    "\n",
    "def func():\n",
    "    \"\"\"This function prints out a greeting.\"\"\"\n",
    "    print(\"Hi\")\n",
    "\n",
    "func()"
   ]
  },
  {
   "cell_type": "code",
   "execution_count": null,
   "metadata": {},
   "outputs": [],
   "source": [
    "'''\n",
    "5. Python Indentation\n",
    "'''\n",
    "if 2>1:\n",
    "      print(\"2 is the bigger person\");\n",
    "      print(\"But 1 is worthy too\");"
   ]
  },
  {
   "cell_type": "code",
   "execution_count": 25,
   "metadata": {},
   "outputs": [
    {
     "name": "stdout",
     "output_type": "stream",
     "text": [
      "7\n"
     ]
    }
   ],
   "source": [
    "'''\n",
    "6. Python Multiple Statements in One Line\n",
    "'''\n",
    "\n",
    "a=7;print(a);"
   ]
  },
  {
   "cell_type": "code",
   "execution_count": 34,
   "metadata": {},
   "outputs": [
    {
     "name": "stdout",
     "output_type": "stream",
     "text": [
      "We need a chaperone\n",
      "We need a 'chaperone'\n"
     ]
    }
   ],
   "source": [
    "'''\n",
    "7. Python Quotations\n",
    "'''\n",
    "print('We need a chaperone');\n",
    "print(\"We need a 'chaperone'\");"
   ]
  },
  {
   "cell_type": "code",
   "execution_count": 27,
   "metadata": {},
   "outputs": [
    {
     "data": {
      "text/plain": [
       "'\\n8. Python Blank Lines\\n\\nIf you leave a line with just whitespace, the interpreter will ignore it.\\n'"
      ]
     },
     "execution_count": 27,
     "metadata": {},
     "output_type": "execute_result"
    }
   ],
   "source": [
    "'''\n",
    "8. Python Blank Lines\n",
    "\n",
    "If you leave a line with just whitespace, the interpreter will ignore it.\n",
    "'''"
   ]
  },
  {
   "cell_type": "code",
   "execution_count": null,
   "metadata": {},
   "outputs": [],
   "source": [
    "'''\n",
    "9. Python Identifiers\n",
    "\n",
    "and\tdef\tFalse\timport\tnot\tTrue\n",
    "as\tdel\tfinally\tin\tor\ttry\n",
    "assert\telif\tfor\tis\tpass\twhile\n",
    "break\telse\tfrom\tlambda\tprint\twith\n",
    "class\texcept\tglobal\tNone\traise\tyield\n",
    "continue\texec\tif\tnonlocal\treturn\t\n",
    "\n",
    "'''"
   ]
  },
  {
   "cell_type": "code",
   "execution_count": 29,
   "metadata": {},
   "outputs": [
    {
     "name": "stdout",
     "output_type": "stream",
     "text": [
      "Hello\n",
      "10\n"
     ]
    }
   ],
   "source": [
    "'''\n",
    "10. Python Variables\n",
    "'''\n",
    "x='Hello'\n",
    "print(x)\n",
    "\n",
    "x=10\n",
    "print(x)"
   ]
  },
  {
   "cell_type": "code",
   "execution_count": 30,
   "metadata": {},
   "outputs": [
    {
     "name": "stdout",
     "output_type": "stream",
     "text": [
      "I just printed 10 pages to the printer HP\n"
     ]
    }
   ],
   "source": [
    "'''\n",
    "11. Python String Formatters\n",
    "11.1. % Operator\n",
    "'''\n",
    "x=10;  printer=\"HP\"\n",
    "print(\"I just printed %s pages to the printer %s\" % (x, printer))"
   ]
  },
  {
   "cell_type": "code",
   "execution_count": 32,
   "metadata": {},
   "outputs": [
    {
     "name": "stdout",
     "output_type": "stream",
     "text": [
      "I just printed 10 pages to the printer HP\n",
      "I  just printed 7 pages to the printer HP\n"
     ]
    }
   ],
   "source": [
    "'''\n",
    "11.2. Format Method\n",
    "'''\n",
    "print(\"I just printed {0} pages to the printer {1}\".format(x, printer))\n",
    "\n",
    "\n",
    "print(\"I  just printed {x} pages to the printer {printer}\".format(x=7, printer='HP'))"
   ]
  },
  {
   "cell_type": "code",
   "execution_count": 33,
   "metadata": {},
   "outputs": [
    {
     "name": "stdout",
     "output_type": "stream",
     "text": [
      "I just printed 10 pages to the printer HP\n"
     ]
    }
   ],
   "source": [
    "'''\n",
    "11.3. f-strings\n",
    "'''\n",
    "print(f\"I just printed {x} pages to the printer {printer}\")"
   ]
  },
  {
   "cell_type": "code",
   "execution_count": null,
   "metadata": {},
   "outputs": [],
   "source": []
  }
 ],
 "metadata": {
  "kernelspec": {
   "display_name": "Python 3",
   "language": "python",
   "name": "python3"
  },
  "language_info": {
   "codemirror_mode": {
    "name": "ipython",
    "version": 3
   },
   "file_extension": ".py",
   "mimetype": "text/x-python",
   "name": "python",
   "nbconvert_exporter": "python",
   "pygments_lexer": "ipython3",
   "version": "3.7.4"
  }
 },
 "nbformat": 4,
 "nbformat_minor": 2
}
