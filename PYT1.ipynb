{
 "cells": [
  {
   "cell_type": "markdown",
   "metadata": {},
   "source": [
    "# BASICS"
   ]
  },
  {
   "cell_type": "code",
   "execution_count": 4,
   "metadata": {},
   "outputs": [
    {
     "name": "stdout",
     "output_type": "stream",
     "text": [
      "Product  4\n",
      "Product  8\n",
      "Product  24\n",
      "Product  96\n",
      "Product  480\n"
     ]
    }
   ],
   "source": [
    "list=[1,2,3,4,5]\n",
    "product=4\n",
    "for i in list:\n",
    "    product=product*i\n",
    "    \n",
    "    print(\"Product \",product)"
   ]
  },
  {
   "cell_type": "code",
   "execution_count": 5,
   "metadata": {},
   "outputs": [
    {
     "name": "stdout",
     "output_type": "stream",
     "text": [
      "Product  4\n",
      "Product  8\n",
      "Product  12\n",
      "Product  16\n",
      "Product  20\n"
     ]
    }
   ],
   "source": [
    "list=[1,2,3,4,5]\n",
    "product=4\n",
    "for i in list:\n",
    "    products=product*i\n",
    "    \n",
    "    print(\"Product \",products)"
   ]
  },
  {
   "cell_type": "code",
   "execution_count": 6,
   "metadata": {},
   "outputs": [
    {
     "name": "stdout",
     "output_type": "stream",
     "text": [
      "Num1 is good\n"
     ]
    }
   ],
   "source": [
    "num1 = 34\n",
    "if(num1>12): \n",
    "    print(\"Num1 is good\") \n",
    "elif(num1>35): \n",
    "    print(\"Num2 is not gooooo....\") \n",
    "else: \n",
    "    print(\"Num2 is great\") "
   ]
  },
  {
   "cell_type": "code",
   "execution_count": 7,
   "metadata": {},
   "outputs": [
    {
     "name": "stdout",
     "output_type": "stream",
     "text": [
      "Enter your name :deeeeeed\n",
      "Hello deeeeeed\n"
     ]
    }
   ],
   "source": [
    "name=input(\"Enter your name :\")\n",
    "print(\"Hello\",name)"
   ]
  },
  {
   "cell_type": "markdown",
   "metadata": {},
   "source": [
    "# Function"
   ]
  },
  {
   "cell_type": "code",
   "execution_count": 8,
   "metadata": {},
   "outputs": [
    {
     "name": "stdout",
     "output_type": "stream",
     "text": [
      "hello\n",
      "hello again\n",
      "hello\n",
      "hello again\n"
     ]
    }
   ],
   "source": [
    "# Python program to illustrate \n",
    "# functions \n",
    "def hello(): \n",
    "    print(\"hello\") \n",
    "    print(\"hello again\") \n",
    "hello() \n",
    "  \n",
    "# calling function \n",
    "hello()       "
   ]
  },
  {
   "cell_type": "code",
   "execution_count": 12,
   "metadata": {},
   "outputs": [],
   "source": [
    "\n",
    "# Python program to illustrate  \n",
    "# function with main \n",
    "def getInteger(): \n",
    "    result = int(input(\"Enter integer: \")) \n",
    "    return result \n",
    "  \n",
    "def Main(): \n",
    "    print(\"Started\") \n",
    "  \n",
    "    # calling the getInteger function and  \n",
    "    # storing its returned value in the output variable \n",
    "    output = getInteger()      \n",
    "    print(output) \n",
    "  \n",
    "# now we are required to tell Python  \n",
    "# for 'Main' function existence \n",
    "if __name__==\"__main__\": \n",
    "    Main() \n"
   ]
  },
  {
   "cell_type": "markdown",
   "metadata": {},
   "source": [
    "# Iteration (Looping)"
   ]
  },
  {
   "cell_type": "code",
   "execution_count": 13,
   "metadata": {},
   "outputs": [
    {
     "name": "stdout",
     "output_type": "stream",
     "text": [
      "0\n",
      "1\n",
      "2\n",
      "3\n",
      "4\n"
     ]
    }
   ],
   "source": [
    "\n",
    "# Python program to illustrate \n",
    "# a simple for loop \n",
    "  \n",
    "for step in range(5):     \n",
    "    print(step) \n"
   ]
  },
  {
   "cell_type": "markdown",
   "metadata": {},
   "source": [
    "# Modules"
   ]
  },
  {
   "cell_type": "code",
   "execution_count": 15,
   "metadata": {},
   "outputs": [
    {
     "name": "stdout",
     "output_type": "stream",
     "text": [
      "Enter a number : 34\n",
      "34.0\n"
     ]
    }
   ],
   "source": [
    "import math\n",
    "\n",
    "def Main():\n",
    "    num=float(input(\"Enter a number : \"))\n",
    "    \n",
    "    num=math.fabs(num)\n",
    "    print(num)\n",
    "\n",
    "\n",
    "if __name__==\"__main__\":\n",
    "    Main()"
   ]
  },
  {
   "cell_type": "code",
   "execution_count": 18,
   "metadata": {},
   "outputs": [
    {
     "name": "stdout",
     "output_type": "stream",
     "text": [
      "Started\n",
      "Enter integer44\n",
      "44.0\n"
     ]
    }
   ],
   "source": [
    "def Main():\n",
    "    print(\"Started\")\n",
    "    output=getInteger()\n",
    "    print(output)\n",
    "\n",
    "\n",
    "def getInteger():\n",
    "    result=float(input(\"Enter integer\"))\n",
    "    return result\n",
    "\n",
    "if __name__==\"__main__\":\n",
    "    Main()"
   ]
  },
  {
   "cell_type": "markdown",
   "metadata": {},
   "source": [
    "# Multiple Assignment"
   ]
  },
  {
   "cell_type": "markdown",
   "metadata": {},
   "source": [
    "### Python Variables\n",
    "\n",
    "- Variable is a name which is used to refer memory location. Variable also known as identifier and used to hold value.\n",
    "\n",
    "- In Python, we don't need to specify the type of variable because Python is a type infer language and smart enough to get variable type.\n",
    "\n",
    "- Variable names can be a group of both letters and digits, but they have to begin with a letter or an underscore.\n",
    "\n",
    "- It is recomended to use lowercase letters for variable name. Rahul and rahul both are two different variables."
   ]
  },
  {
   "cell_type": "code",
   "execution_count": 24,
   "metadata": {},
   "outputs": [
    {
     "name": "stdout",
     "output_type": "stream",
     "text": [
      "40\n",
      "40\n",
      "40\n"
     ]
    }
   ],
   "source": [
    "x=y=z=40\n",
    "print(x)\n",
    "print(y)\n",
    "print(z)"
   ]
  },
  {
   "cell_type": "markdown",
   "metadata": {},
   "source": [
    "### Identifier Naming\n",
    "\n",
    "Variables are the example of identifiers. An Identifier is used to identify the literals used in the program. The rules to name an identifier are given below.\n",
    "\n",
    "  -  The first character of the variable must be an alphabet or underscore ( _ ).\n",
    "  -   All the characters except the first character may be an alphabet of lower-case(a-z), upper-case (A-Z), underscore or digit (0-9).\n",
    "  -  Identifier name must not contain any white-space, or special character (!, @, #, %, ^, &, *).\n",
    "  -  Identifier name must not be similar to any keyword defined in the language.\n",
    "  -  Identifier names are case sensitive for example my name, and MyName is not the same.\n",
    "  -  Examples of valid identifiers : a123, _n, n_9, etc.\n",
    "  -  Examples of invalid identifiers: 1a, n%4, n 9, etc.\n"
   ]
  },
  {
   "cell_type": "markdown",
   "metadata": {},
   "source": [
    "# Declaring Variable and Assigning Values"
   ]
  },
  {
   "cell_type": "code",
   "execution_count": 26,
   "metadata": {},
   "outputs": [
    {
     "name": "stdout",
     "output_type": "stream",
     "text": [
      "a : 10\n",
      "name :  Swedel\n",
      "salary :  786665\n"
     ]
    }
   ],
   "source": [
    "a=10\n",
    "name=\"Swedel\"\n",
    "salary=786665\n",
    "print(\"a :\",a)\n",
    "print(\"name : \",name)\n",
    "print(\"salary : \",salary)"
   ]
  },
  {
   "cell_type": "markdown",
   "metadata": {},
   "source": [
    "##  Basic Fundamentals:\n",
    " - Tokens and their types.\n",
    "\n",
    " -  Comments\n",
    " \n",
    " \n",
    "\n",
    "#### There are following tokens in Python:\n",
    "\n",
    "   -  Keywords.\n",
    "   -  Identifiers.\n",
    "   -  Literals.\n",
    "   -  Operators.\n"
   ]
  },
  {
   "cell_type": "markdown",
   "metadata": {},
   "source": [
    "## Python Data Types \n",
    " \n",
    "-    Numbers\n",
    "-    String\n",
    "-    List\n",
    "-    Tuple\n",
    "-    Dictionary\n"
   ]
  },
  {
   "cell_type": "markdown",
   "metadata": {},
   "source": [
    "#### Dictionary"
   ]
  },
  {
   "cell_type": "code",
   "execution_count": 32,
   "metadata": {},
   "outputs": [
    {
     "name": "stdout",
     "output_type": "stream",
     "text": [
      "{1: 'Swedel', 2: 'Jenifer', 3: 'Genu '}\n",
      "dict_keys([1, 2, 3])\n",
      "dict_values(['Swedel', 'Jenifer', 'Genu '])\n"
     ]
    }
   ],
   "source": [
    "dict={ 1: \"Swedel\" , 2 :\"Jenifer\" , 3: \"Genu \"}\n",
    "print(dict);\n",
    "print(dict.keys());\n",
    "print(dict.values());"
   ]
  },
  {
   "cell_type": "markdown",
   "metadata": {},
   "source": [
    "### Python Keywords \n",
    "- and \n",
    "- as\n",
    "- assert \n",
    " \n",
    "- break\n",
    "\n",
    "- continue\n",
    "- class\n",
    "\n",
    "- def\n",
    "- del\n",
    "\n",
    "- elif\n",
    "- else\n",
    "- except\n",
    "\n",
    "- from\n",
    "- for\n",
    "- finally\n",
    "- False\n",
    "\n",
    "- global\n",
    "\n",
    "- if\n",
    "- import\n",
    "- in\n",
    "- is\n",
    "\n",
    "- lambda \n",
    "\n",
    "- not\n",
    "- Nonlocal\n",
    "- None  \n",
    "\n",
    "- or \n",
    "\n",
    "- pass \n",
    "\n",
    "- raise \n",
    "- return \n",
    "\n",
    "- True \n",
    "- try \n",
    "\n",
    "- with \n",
    "- while \n",
    "\n",
    "- yield\n"
   ]
  },
  {
   "cell_type": "markdown",
   "metadata": {},
   "source": [
    "## Python Literals\n",
    "  ### I. String literals:\n",
    "  #####  Types of Strings:\n",
    "  \n",
    "   a).Single line String-  \n",
    "              \n",
    "              >>> text1='hello'  \n",
    "  \n",
    "   b).Multi line String\n",
    "   -  Adding black slash at the end of each line.\n",
    "              \n",
    "                 >>> text1='hello\\  \n",
    "                     user'  \n",
    "                 >>> text1  \n",
    "                     'hellouser'  \n",
    "               \n",
    "   -  Using triple quotation marks:\n",
    "                 \n",
    "                 >>> str2='''welcome \n",
    "                     to \n",
    "                     SSSIT'''  \n",
    "                 >>> print str2  \n",
    "                     \n",
    "                     welcome  \n",
    "                     to  \n",
    "                     SSSIT  \n",
    "  \n",
    "### II.  Numeric literals:\n",
    "                     \n",
    "   -  int \n",
    "   -  Long\n",
    "   -  float\n",
    "   -  Complex\n",
    "               \n",
    " \n",
    "### III.  Boolean literals:\n",
    "   \n",
    "   -  True \n",
    "   -  False\n",
    "   \n",
    "  \n",
    "  ### IV.  Special literals.\n",
    "  \n",
    "   -   None\n",
    "                      \n",
    "                      >>> val1=10  \n",
    "                      >>> val2=None  \n",
    "                      \n",
    "                      >>> val1  \n",
    "                          10  \n",
    "\n",
    "                      >>> val2   # no field created\n",
    "                      \n",
    "                      \n",
    "                      >>> print(val2)\n",
    "                          None  \n",
    "  \n",
    "  ### V.   Literal Collections.\n",
    "   - list \n",
    "  "
   ]
  },
  {
   "cell_type": "markdown",
   "metadata": {},
   "source": [
    "## Python If-else statements "
   ]
  },
  {
   "cell_type": "markdown",
   "metadata": {},
   "source": [
    "### The if statement \n",
    "\n",
    "#### Example 1"
   ]
  },
  {
   "cell_type": "code",
   "execution_count": 53,
   "metadata": {},
   "outputs": [
    {
     "name": "stdout",
     "output_type": "stream",
     "text": [
      "enter the number ?  : 33\n"
     ]
    }
   ],
   "source": [
    "num = int(input(\"enter the number ?  : \"))  \n",
    "if(num%2 == 0):  \n",
    "    print(\"Number is even\")  "
   ]
  },
  {
   "cell_type": "markdown",
   "metadata": {},
   "source": [
    "#### Example 2 : Program to print the largest of the three numbers.  "
   ]
  },
  {
   "cell_type": "code",
   "execution_count": null,
   "metadata": {},
   "outputs": [],
   "source": [
    "a = int(input(\"Enter a ? :  \"));  \n",
    "b = int(input(\"Enter b ? :  \"));  \n",
    "c = int(input(\"Enter c ? :  \"));  \n",
    "if a>b and a>c:  \n",
    "    print(\"a is largest \");  \n",
    "if b>a and b>c:  \n",
    "    print(\"b is largest \");  \n",
    "if c>a and c>b:  \n",
    "    print(\"c is largest \");  "
   ]
  },
  {
   "cell_type": "markdown",
   "metadata": {},
   "source": [
    "### The if-else statement  \n",
    "\n",
    "#### Example 1 : Program to check whether a person is eligible to vote or not."
   ]
  },
  {
   "cell_type": "code",
   "execution_count": null,
   "metadata": {},
   "outputs": [],
   "source": [
    "age = int (input(\"Enter your age? \"))  \n",
    "if (age>=18):  \n",
    "    print(\"You are eligible to vote !!\");  \n",
    "else:  \n",
    "    print(\"Sorry! you have to wait !!\");  "
   ]
  },
  {
   "cell_type": "code",
   "execution_count": null,
   "metadata": {},
   "outputs": [],
   "source": []
  }
 ],
 "metadata": {
  "kernelspec": {
   "display_name": "Python 3",
   "language": "python",
   "name": "python3"
  },
  "language_info": {
   "codemirror_mode": {
    "name": "ipython",
    "version": 3
   },
   "file_extension": ".py",
   "mimetype": "text/x-python",
   "name": "python",
   "nbconvert_exporter": "python",
   "pygments_lexer": "ipython3",
   "version": "3.7.6"
  }
 },
 "nbformat": 4,
 "nbformat_minor": 4
}
