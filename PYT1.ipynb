{
 "cells": [
  {
   "cell_type": "markdown",
   "metadata": {},
   "source": [
    "# BASICS"
   ]
  },
  {
   "cell_type": "code",
   "execution_count": 4,
   "metadata": {},
   "outputs": [
    {
     "name": "stdout",
     "output_type": "stream",
     "text": [
      "Product  4\n",
      "Product  8\n",
      "Product  24\n",
      "Product  96\n",
      "Product  480\n"
     ]
    }
   ],
   "source": [
    "list=[1,2,3,4,5]\n",
    "product=4\n",
    "for i in list:\n",
    "    product=product*i\n",
    "    \n",
    "    print(\"Product \",product)"
   ]
  },
  {
   "cell_type": "code",
   "execution_count": 5,
   "metadata": {},
   "outputs": [
    {
     "name": "stdout",
     "output_type": "stream",
     "text": [
      "Product  4\n",
      "Product  8\n",
      "Product  12\n",
      "Product  16\n",
      "Product  20\n"
     ]
    }
   ],
   "source": [
    "list=[1,2,3,4,5]\n",
    "product=4\n",
    "for i in list:\n",
    "    products=product*i\n",
    "    \n",
    "    print(\"Product \",products)"
   ]
  },
  {
   "cell_type": "code",
   "execution_count": 6,
   "metadata": {},
   "outputs": [
    {
     "name": "stdout",
     "output_type": "stream",
     "text": [
      "Num1 is good\n"
     ]
    }
   ],
   "source": [
    "num1 = 34\n",
    "if(num1>12): \n",
    "    print(\"Num1 is good\") \n",
    "elif(num1>35): \n",
    "    print(\"Num2 is not gooooo....\") \n",
    "else: \n",
    "    print(\"Num2 is great\") "
   ]
  },
  {
   "cell_type": "code",
   "execution_count": 7,
   "metadata": {},
   "outputs": [
    {
     "name": "stdout",
     "output_type": "stream",
     "text": [
      "Enter your name :deeeeeed\n",
      "Hello deeeeeed\n"
     ]
    }
   ],
   "source": [
    "name=input(\"Enter your name :\")\n",
    "print(\"Hello\",name)"
   ]
  },
  {
   "cell_type": "markdown",
   "metadata": {},
   "source": [
    "# Function"
   ]
  },
  {
   "cell_type": "code",
   "execution_count": 8,
   "metadata": {},
   "outputs": [
    {
     "name": "stdout",
     "output_type": "stream",
     "text": [
      "hello\n",
      "hello again\n",
      "hello\n",
      "hello again\n"
     ]
    }
   ],
   "source": [
    "# Python program to illustrate \n",
    "# functions \n",
    "def hello(): \n",
    "    print(\"hello\") \n",
    "    print(\"hello again\") \n",
    "hello() \n",
    "  \n",
    "# calling function \n",
    "hello()       "
   ]
  },
  {
   "cell_type": "code",
   "execution_count": 12,
   "metadata": {},
   "outputs": [],
   "source": [
    "\n",
    "# Python program to illustrate  \n",
    "# function with main \n",
    "def getInteger(): \n",
    "    result = int(input(\"Enter integer: \")) \n",
    "    return result \n",
    "  \n",
    "def Main(): \n",
    "    print(\"Started\") \n",
    "  \n",
    "    # calling the getInteger function and  \n",
    "    # storing its returned value in the output variable \n",
    "    output = getInteger()      \n",
    "    print(output) \n",
    "  \n",
    "# now we are required to tell Python  \n",
    "# for 'Main' function existence \n",
    "if __name__==\"__main__\": \n",
    "    Main() \n"
   ]
  },
  {
   "cell_type": "markdown",
   "metadata": {},
   "source": [
    "# Iteration (Looping)"
   ]
  },
  {
   "cell_type": "code",
   "execution_count": 13,
   "metadata": {},
   "outputs": [
    {
     "name": "stdout",
     "output_type": "stream",
     "text": [
      "0\n",
      "1\n",
      "2\n",
      "3\n",
      "4\n"
     ]
    }
   ],
   "source": [
    "\n",
    "# Python program to illustrate \n",
    "# a simple for loop \n",
    "  \n",
    "for step in range(5):     \n",
    "    print(step) \n"
   ]
  },
  {
   "cell_type": "markdown",
   "metadata": {},
   "source": [
    "# Modules"
   ]
  },
  {
   "cell_type": "code",
   "execution_count": 15,
   "metadata": {},
   "outputs": [
    {
     "name": "stdout",
     "output_type": "stream",
     "text": [
      "Enter a number : 34\n",
      "34.0\n"
     ]
    }
   ],
   "source": [
    "import math\n",
    "\n",
    "def Main():\n",
    "    num=float(input(\"Enter a number : \"))\n",
    "    \n",
    "    num=math.fabs(num)\n",
    "    print(num)\n",
    "\n",
    "\n",
    "if __name__==\"__main__\":\n",
    "    Main()"
   ]
  },
  {
   "cell_type": "code",
   "execution_count": 18,
   "metadata": {},
   "outputs": [
    {
     "name": "stdout",
     "output_type": "stream",
     "text": [
      "Started\n",
      "Enter integer44\n",
      "44.0\n"
     ]
    }
   ],
   "source": [
    "def Main():\n",
    "    print(\"Started\")\n",
    "    output=getInteger()\n",
    "    print(output)\n",
    "\n",
    "\n",
    "def getInteger():\n",
    "    result=float(input(\"Enter integer\"))\n",
    "    return result\n",
    "\n",
    "if __name__==\"__main__\":\n",
    "    Main()"
   ]
  },
  {
   "cell_type": "markdown",
   "metadata": {},
   "source": [
    "# Multiple Assignment"
   ]
  },
  {
   "cell_type": "markdown",
   "metadata": {},
   "source": [
    "### Python Variables\n",
    "\n",
    "- Variable is a name which is used to refer memory location. Variable also known as identifier and used to hold value.\n",
    "\n",
    "- In Python, we don't need to specify the type of variable because Python is a type infer language and smart enough to get variable type.\n",
    "\n",
    "- Variable names can be a group of both letters and digits, but they have to begin with a letter or an underscore.\n",
    "\n",
    "- It is recomended to use lowercase letters for variable name. Rahul and rahul both are two different variables."
   ]
  },
  {
   "cell_type": "code",
   "execution_count": 24,
   "metadata": {},
   "outputs": [
    {
     "name": "stdout",
     "output_type": "stream",
     "text": [
      "40\n",
      "40\n",
      "40\n"
     ]
    }
   ],
   "source": [
    "x=y=z=40\n",
    "print(x)\n",
    "print(y)\n",
    "print(z)"
   ]
  },
  {
   "cell_type": "markdown",
   "metadata": {},
   "source": [
    "### Identifier Naming\n",
    "\n",
    "Variables are the example of identifiers. An Identifier is used to identify the literals used in the program. The rules to name an identifier are given below.\n",
    "\n",
    "  -  The first character of the variable must be an alphabet or underscore ( _ ).\n",
    "  -   All the characters except the first character may be an alphabet of lower-case(a-z), upper-case (A-Z), underscore or digit (0-9).\n",
    "  -  Identifier name must not contain any white-space, or special character (!, @, #, %, ^, &, *).\n",
    "  -  Identifier name must not be similar to any keyword defined in the language.\n",
    "  -  Identifier names are case sensitive for example my name, and MyName is not the same.\n",
    "  -  Examples of valid identifiers : a123, _n, n_9, etc.\n",
    "  -  Examples of invalid identifiers: 1a, n%4, n 9, etc.\n"
   ]
  },
  {
   "cell_type": "markdown",
   "metadata": {},
   "source": [
    "# Declaring Variable and Assigning Values"
   ]
  },
  {
   "cell_type": "code",
   "execution_count": 26,
   "metadata": {},
   "outputs": [
    {
     "name": "stdout",
     "output_type": "stream",
     "text": [
      "a : 10\n",
      "name :  Swedel\n",
      "salary :  786665\n"
     ]
    }
   ],
   "source": [
    "a=10\n",
    "name=\"Swedel\"\n",
    "salary=786665\n",
    "print(\"a :\",a)\n",
    "print(\"name : \",name)\n",
    "print(\"salary : \",salary)"
   ]
  },
  {
   "cell_type": "markdown",
   "metadata": {},
   "source": [
    "##  Basic Fundamentals:\n",
    " - Tokens and their types.\n",
    "\n",
    " -  Comments\n",
    " \n",
    " \n",
    "\n",
    "#### There are following tokens in Python:\n",
    "\n",
    "   -  Keywords.\n",
    "   -  Identifiers.\n",
    "   -  Literals.\n",
    "   -  Operators.\n"
   ]
  },
  {
   "cell_type": "markdown",
   "metadata": {},
   "source": [
    "## Python Data Types \n",
    " \n",
    "-    Numbers\n",
    "-    String\n",
    "-    List\n",
    "-    Tuple\n",
    "-    Dictionary\n"
   ]
  },
  {
   "cell_type": "markdown",
   "metadata": {},
   "source": [
    "#### Dictionary"
   ]
  },
  {
   "cell_type": "code",
   "execution_count": 32,
   "metadata": {},
   "outputs": [
    {
     "name": "stdout",
     "output_type": "stream",
     "text": [
      "{1: 'Swedel', 2: 'Jenifer', 3: 'Genu '}\n",
      "dict_keys([1, 2, 3])\n",
      "dict_values(['Swedel', 'Jenifer', 'Genu '])\n"
     ]
    }
   ],
   "source": [
    "dict={ 1: \"Swedel\" , 2 :\"Jenifer\" , 3: \"Genu \"}\n",
    "print(dict);\n",
    "print(dict.keys());\n",
    "print(dict.values());"
   ]
  },
  {
   "cell_type": "markdown",
   "metadata": {},
   "source": [
    "### Python Keywords \n",
    "- and \n",
    "- as\n",
    "- assert \n",
    " \n",
    "- break\n",
    "\n",
    "- continue\n",
    "- class\n",
    "\n",
    "- def\n",
    "- del\n",
    "\n",
    "- elif\n",
    "- else\n",
    "- except\n",
    "\n",
    "- from\n",
    "- for\n",
    "- finally\n",
    "- False\n",
    "\n",
    "- global\n",
    "\n",
    "- if\n",
    "- import\n",
    "- in\n",
    "- is\n",
    "\n",
    "- lambda \n",
    "\n",
    "- not\n",
    "- Nonlocal\n",
    "- None  \n",
    "\n",
    "- or \n",
    "\n",
    "- pass \n",
    "\n",
    "- raise \n",
    "- return \n",
    "\n",
    "- True \n",
    "- try \n",
    "\n",
    "- with \n",
    "- while \n",
    "\n",
    "- yield\n"
   ]
  },
  {
   "cell_type": "markdown",
   "metadata": {},
   "source": [
    "## Python Literals\n",
    "  ### I. String literals:\n",
    "  #####  Types of Strings:\n",
    "  \n",
    "   a).Single line String-  \n",
    "              \n",
    "              >>> text1='hello'  \n",
    "  \n",
    "   b).Multi line String\n",
    "   -  Adding black slash at the end of each line.\n",
    "              \n",
    "                 >>> text1='hello\\  \n",
    "                     user'  \n",
    "                 >>> text1  \n",
    "                     'hellouser'  \n",
    "               \n",
    "   -  Using triple quotation marks:\n",
    "                 \n",
    "                 >>> str2='''welcome \n",
    "                     to \n",
    "                     SSSIT'''  \n",
    "                 >>> print str2  \n",
    "                     \n",
    "                     welcome  \n",
    "                     to  \n",
    "                     SSSIT  \n",
    "  \n",
    "### II.  Numeric literals:\n",
    "                     \n",
    "   -  int \n",
    "   -  Long\n",
    "   -  float\n",
    "   -  Complex\n",
    "               \n",
    " \n",
    "### III.  Boolean literals:\n",
    "   \n",
    "   -  True \n",
    "   -  False\n",
    "   \n",
    "  \n",
    "  ### IV.  Special literals.\n",
    "  \n",
    "   -   None\n",
    "                      \n",
    "                      >>> val1=10  \n",
    "                      >>> val2=None  \n",
    "                      \n",
    "                      >>> val1  \n",
    "                          10  \n",
    "\n",
    "                      >>> val2   # no field created\n",
    "                      \n",
    "                      \n",
    "                      >>> print(val2)\n",
    "                          None  \n",
    "  \n",
    "  ### V.   Literal Collections.\n",
    "   - list \n",
    "  "
   ]
  },
  {
   "cell_type": "markdown",
   "metadata": {},
   "source": [
    "## Python If-else statements "
   ]
  },
  {
   "cell_type": "markdown",
   "metadata": {},
   "source": [
    "### The if statement \n",
    "\n",
    "#### Example 1"
   ]
  },
  {
   "cell_type": "code",
   "execution_count": 53,
   "metadata": {},
   "outputs": [
    {
     "name": "stdout",
     "output_type": "stream",
     "text": [
      "enter the number ?  : 33\n"
     ]
    }
   ],
   "source": [
    "num = int(input(\"enter the number ?  : \"))  \n",
    "if(num%2 == 0):  \n",
    "    print(\"Number is even\")  "
   ]
  },
  {
   "cell_type": "markdown",
   "metadata": {},
   "source": [
    "#### Example 2 : Program to print the largest of the three numbers.  "
   ]
  },
  {
   "cell_type": "code",
   "execution_count": null,
   "metadata": {},
   "outputs": [],
   "source": [
    "a = int(input(\"Enter a ? :  \"));  \n",
    "b = int(input(\"Enter b ? :  \"));  \n",
    "c = int(input(\"Enter c ? :  \"));  \n",
    "if a>b and a>c:  \n",
    "    print(\"a is largest \");  \n",
    "if b>a and b>c:  \n",
    "    print(\"b is largest \");  \n",
    "if c>a and c>b:  \n",
    "    print(\"c is largest \");  "
   ]
  },
  {
   "cell_type": "markdown",
   "metadata": {},
   "source": [
    "### The if-else statement  \n",
    "\n",
    "#### Example 1 : Program to check whether a person is eligible to vote or not."
   ]
  },
  {
   "cell_type": "code",
   "execution_count": null,
   "metadata": {},
   "outputs": [],
   "source": [
    "age = int (input(\"Enter your age? \"))  \n",
    "if (age>=18):  \n",
    "    print(\"You are eligible to vote !!\");  \n",
    "else:  \n",
    "    print(\"Sorry! you have to wait !!\");  "
   ]
  },
  {
   "cell_type": "markdown",
   "metadata": {},
   "source": [
    "### elif"
   ]
  },
  {
   "cell_type": "markdown",
   "metadata": {},
   "source": [
    "# Loops\n",
    "-   for loop\n",
    "\n",
    "-   while loop\n",
    "\n",
    "-  do-while loop\n",
    "\n",
    "\n",
    "### for loop\n"
   ]
  },
  {
   "cell_type": "code",
   "execution_count": 3,
   "metadata": {},
   "outputs": [
    {
     "name": "stdout",
     "output_type": "stream",
     "text": [
      "Enter the number up to which you want to print the natural numbers?7\n",
      "0 1 2 3 4 5 6 7 8 9 "
     ]
    }
   ],
   "source": [
    "i=1  \n",
    "n=int(input(\"Enter the number up to which you want to print the natural numbers?\"))  \n",
    "for i in range(0,10): \n",
    "    print(i,end = ' ')  "
   ]
  },
  {
   "cell_type": "code",
   "execution_count": 5,
   "metadata": {},
   "outputs": [
    {
     "name": "stdout",
     "output_type": "stream",
     "text": [
      "Enter a number:77\n",
      "77 X 1 = 77\n",
      "77 X 2 = 154\n",
      "77 X 3 = 231\n",
      "77 X 4 = 308\n",
      "77 X 5 = 385\n",
      "77 X 6 = 462\n",
      "77 X 7 = 539\n",
      "77 X 8 = 616\n",
      "77 X 9 = 693\n",
      "77 X 10 = 770\n"
     ]
    }
   ],
   "source": [
    "    i=1;  \n",
    "    num = int(input(\"Enter a number:\"));  \n",
    "    for i in range(1,11):  \n",
    "        print(\"%d X %d = %d\"%(num,i,num*i));  "
   ]
  },
  {
   "cell_type": "markdown",
   "metadata": {},
   "source": [
    "### Nested for Loop "
   ]
  },
  {
   "cell_type": "code",
   "execution_count": 11,
   "metadata": {},
   "outputs": [
    {
     "name": "stdout",
     "output_type": "stream",
     "text": [
      "Enter a number of rows4\n",
      "\n",
      "* \n",
      "* * \n",
      "* * * \n",
      "* * * * "
     ]
    }
   ],
   "source": [
    "n=int(input(\"Enter a number of rows\"))\n",
    "i,j=0,0\n",
    "for i in range(0,n):\n",
    "    print()\n",
    "    for j in range(0,i+1):\n",
    "        print(\"*\",end=\" \")"
   ]
  },
  {
   "cell_type": "code",
   "execution_count": 16,
   "metadata": {},
   "outputs": [
    {
     "name": "stdout",
     "output_type": "stream",
     "text": [
      "0\n",
      "The loop is broken due to break statement...came out of loop\n"
     ]
    }
   ],
   "source": [
    "for i in range(0,5):  \n",
    "    print(i)  \n",
    "    break;  \n",
    "else:\n",
    "    print(\"for loop is exhausted\");  \n",
    "print(\"The loop is broken due to break statement...came out of loop\")     "
   ]
  },
  {
   "cell_type": "markdown",
   "metadata": {},
   "source": [
    "### While loop "
   ]
  },
  {
   "cell_type": "code",
   "execution_count": 17,
   "metadata": {},
   "outputs": [
    {
     "name": "stdout",
     "output_type": "stream",
     "text": [
      "1\n",
      "2\n",
      "3\n",
      "4\n",
      "5\n",
      "6\n",
      "7\n",
      "8\n",
      "9\n",
      "10\n"
     ]
    }
   ],
   "source": [
    "    i=1;  \n",
    "    while i<=10:  \n",
    "        print(i);  \n",
    "        i=i+1;  "
   ]
  },
  {
   "cell_type": "code",
   "execution_count": 18,
   "metadata": {},
   "outputs": [
    {
     "name": "stdout",
     "output_type": "stream",
     "text": [
      "Enter the number?4\n",
      "4 X 1 = 4 \n",
      "\n",
      "4 X 2 = 8 \n",
      "\n",
      "4 X 3 = 12 \n",
      "\n",
      "4 X 4 = 16 \n",
      "\n",
      "4 X 5 = 20 \n",
      "\n",
      "4 X 6 = 24 \n",
      "\n",
      "4 X 7 = 28 \n",
      "\n",
      "4 X 8 = 32 \n",
      "\n",
      "4 X 9 = 36 \n",
      "\n",
      "4 X 10 = 40 \n",
      "\n"
     ]
    }
   ],
   "source": [
    "    i=1  \n",
    "    number=0  \n",
    "    b=9  \n",
    "    number = int(input(\"Enter the number?\"))  \n",
    "    while i<=10:  \n",
    "        print(\"%d X %d = %d \\n\"%(number,i,number*i));  \n",
    "        i = i+1;  "
   ]
  },
  {
   "cell_type": "markdown",
   "metadata": {},
   "source": [
    "### Break  "
   ]
  },
  {
   "cell_type": "code",
   "execution_count": null,
   "metadata": {},
   "outputs": [],
   "source": [
    "    list =[1,2,3,4]  \n",
    "    count = 1;  \n",
    "    for i in list:  \n",
    "        if(i == 4):  \n",
    "            print(\"item matched\")  \n",
    "            count = count + 1;  \n",
    "            break  \n",
    "    print(\"found at\",count,\"location\");  "
   ]
  },
  {
   "cell_type": "code",
   "execution_count": 2,
   "metadata": {},
   "outputs": [
    {
     "name": "stdout",
     "output_type": "stream",
     "text": [
      "Enter a two value: 44 55\n",
      "Number of boys:  44\n",
      "Number of girls:  55\n"
     ]
    }
   ],
   "source": [
    "x, y = input(\"Enter a two value: \").split() \n",
    "print(\"Number of boys: \", x) \n",
    "print(\"Number of girls: \", y) \n"
   ]
  },
  {
   "cell_type": "code",
   "execution_count": 5,
   "metadata": {},
   "outputs": [
    {
     "name": "stdout",
     "output_type": "stream",
     "text": [
      "Enter a multiple value: 44 55 66 22\n",
      "List of students:  [44, 55, 66, 22]\n"
     ]
    }
   ],
   "source": [
    "x = list(map(int, input(\"Enter a multiple value: \").split())) \n",
    "print(\"List of students: \", x) \n"
   ]
  },
  {
   "cell_type": "code",
   "execution_count": 1,
   "metadata": {},
   "outputs": [
    {
     "name": "stdout",
     "output_type": "stream",
     "text": [
      "Enter two value: 44 55 33\n",
      "First Number is:  [44, 55, 33]\n"
     ]
    }
   ],
   "source": [
    "x = [int(x) for x in input(\"Enter two value: \").split()] \n",
    "print(\"First Number is: \", x) \n"
   ]
  },
  {
   "cell_type": "code",
   "execution_count": 2,
   "metadata": {},
   "outputs": [],
   "source": [
    "import antigravity"
   ]
  },
  {
   "cell_type": "markdown",
   "metadata": {},
   "source": [
    "###  end parameter"
   ]
  },
  {
   "cell_type": "code",
   "execution_count": 4,
   "metadata": {},
   "outputs": [
    {
     "name": "stdout",
     "output_type": "stream",
     "text": [
      "Welcome, Swedel "
     ]
    }
   ],
   "source": [
    "print(\"Welcome,\",end=\" \")\n",
    "print(\"Swedel\",end= \" \")\n"
   ]
  },
  {
   "cell_type": "code",
   "execution_count": 5,
   "metadata": {},
   "outputs": [
    {
     "name": "stdout",
     "output_type": "stream",
     "text": [
      "Welcome,@Swedel "
     ]
    }
   ],
   "source": [
    "print(\"Welcome,\",end=\"@\")\n",
    "print(\"Swedel\",end= \" \")\n"
   ]
  },
  {
   "cell_type": "code",
   "execution_count": 9,
   "metadata": {},
   "outputs": [
    {
     "name": "stdout",
     "output_type": "stream",
     "text": [
      "Welcome,\n",
      "Swedel "
     ]
    }
   ],
   "source": [
    "print(\"Welcome,\",sep=\" \")\n",
    "print(\"Swedel\",end= \" \")\n"
   ]
  },
  {
   "cell_type": "markdown",
   "metadata": {},
   "source": [
    "## output formatting"
   ]
  },
  {
   "cell_type": "code",
   "execution_count": 1,
   "metadata": {},
   "outputs": [
    {
     "name": "stdout",
     "output_type": "stream",
     "text": [
      "Geeks :  1, Portal :  5.33\n"
     ]
    }
   ],
   "source": [
    "print(\"Geeks : % 2d, Portal : % 5.2f\" %(1, 05.333)) "
   ]
  },
  {
   "cell_type": "code",
   "execution_count": 5,
   "metadata": {},
   "outputs": [
    {
     "name": "stdout",
     "output_type": "stream",
     "text": [
      "125,120\n"
     ]
    }
   ],
   "source": [
    "print(\"%3d,%2d\"%(125,120))"
   ]
  },
  {
   "cell_type": "code",
   "execution_count": 6,
   "metadata": {},
   "outputs": [
    {
     "name": "stdout",
     "output_type": "stream",
     "text": [
      "    031\n"
     ]
    }
   ],
   "source": [
    "print(\"%7.3o\"%(25))"
   ]
  },
  {
   "cell_type": "code",
   "execution_count": 1,
   "metadata": {},
   "outputs": [
    {
     "name": "stdout",
     "output_type": "stream",
     "text": [
      " 3.561E+02\n"
     ]
    }
   ],
   "source": [
    "print(\"% 10.3E\"% (356.08977)) "
   ]
  },
  {
   "cell_type": "code",
   "execution_count": 5,
   "metadata": {},
   "outputs": [
    {
     "name": "stdout",
     "output_type": "stream",
     "text": [
      "I love myself***************************\n"
     ]
    }
   ],
   "source": [
    "cstr=\"I love myself\"\n",
    "print(cstr.ljust(40,\"*\"))"
   ]
  },
  {
   "cell_type": "markdown",
   "metadata": {},
   "source": [
    "#### Formatting output using format method : "
   ]
  },
  {
   "cell_type": "code",
   "execution_count": 6,
   "metadata": {},
   "outputs": [
    {
     "name": "stdout",
     "output_type": "stream",
     "text": [
      "I love Geeks for \"Geeks!\"\n",
      "Geeks and Portal\n",
      "Portal and Geeks\n"
     ]
    }
   ],
   "source": [
    "  \n",
    "# using format() method \n",
    "print('I love {} for \"{}!\"'.format('Geeks', 'Geeks')) \n",
    "  \n",
    "# using format() method and refering  \n",
    "# a position of the object \n",
    "print('{0} and {1}'.format('Geeks', 'Portal')) \n",
    "  \n",
    "print('{1} and {0}'.format('Geeks', 'Portal')) "
   ]
  },
  {
   "cell_type": "code",
   "execution_count": 7,
   "metadata": {},
   "outputs": [
    {
     "name": "stdout",
     "output_type": "stream",
     "text": [
      "Number one portal is Geeks, For, and Geeks.\n",
      "Geeks :12, Portal :    0.55\n",
      "Second argument:  11, first one:   47.42\n",
      "Geeks:   453,  Portal:    59.06\n"
     ]
    }
   ],
   "source": [
    "# combining positional and keyword arguments \n",
    "print('Number one portal is {0}, {1}, and {other}.'\n",
    "     .format('Geeks', 'For', other ='Geeks')) \n",
    "  \n",
    "# using format() method with number  \n",
    "print(\"Geeks :{0:2d}, Portal :{1:8.2f}\". \n",
    "      format(12, 00.546)) \n",
    "  \n",
    "# Changing positional argument \n",
    "print(\"Second argument: {1:3d}, first one: {0:7.2f}\". \n",
    "      format(47.42, 11)) \n",
    "  \n",
    "print(\"Geeks: {a:5d},  Portal: {p:8.2f}\". \n",
    "     format(a = 453, p = 59.058)) "
   ]
  },
  {
   "cell_type": "code",
   "execution_count": 8,
   "metadata": {},
   "outputs": [
    {
     "name": "stdout",
     "output_type": "stream",
     "text": [
      "Geeks: 4127; For: 4098; Geeks: 8637678\n",
      "I love GeeksForGeeks computer Portal\n"
     ]
    }
   ],
   "source": [
    "# show format () is  \n",
    "# used in dictionary \n",
    "  \n",
    "tab = {'geeks': 4127, 'for': 4098, 'geek': 8637678} \n",
    "  \n",
    "# using format() in dictionary \n",
    "print('Geeks: {0[geeks]:d}; For: {0[for]:d}; '\n",
    "    'Geeks: {0[geek]:d}'.format(tab)) \n",
    "  \n",
    "data = dict(fun =\"GeeksForGeeks\", adj =\"Portal\") \n",
    "  \n",
    "# using format() in dictionary \n",
    "print(\"I love {fun} computer {adj}\".format(**data)) "
   ]
  },
  {
   "cell_type": "markdown",
   "metadata": {},
   "source": [
    "#### Formatting output using String method : "
   ]
  },
  {
   "cell_type": "code",
   "execution_count": 9,
   "metadata": {},
   "outputs": [
    {
     "name": "stdout",
     "output_type": "stream",
     "text": [
      "Center aligned string with fillchr: \n",
      "##########I love geeksforgeeks##########\n",
      "The left aligned string is : \n",
      "I love geeksforgeeks--------------------\n",
      "The right aligned string is : \n",
      "--------------------I love geeksforgeeks\n"
     ]
    }
   ],
   "source": [
    "cstr = \"I love geeksforgeeks\"\n",
    "    \n",
    "# Printing the center aligned   \n",
    "# string with fillchr  \n",
    "print (\"Center aligned string with fillchr: \")  \n",
    "print (cstr.center(40, '#'))  \n",
    "  \n",
    "# Printing the left aligned   \n",
    "# string with \"-\" padding   \n",
    "print (\"The left aligned string is : \")  \n",
    "print (cstr.ljust(40, '-')) \n",
    "  \n",
    "# Printing the right aligned string  \n",
    "# with \"-\" padding   \n",
    "print (\"The right aligned string is : \")  \n",
    "print (cstr.rjust(40, '-')) "
   ]
  },
  {
   "cell_type": "markdown",
   "metadata": {},
   "source": [
    "# Data types\n",
    "\n",
    "   -   Strings\n",
    "   -   List\n",
    "   -   Tuples\n",
    "   -   Sets\n",
    "   -   Dictionary\n",
    "    "
   ]
  },
  {
   "cell_type": "markdown",
   "metadata": {},
   "source": [
    "# Strings\n",
    "\n",
    "### Creating a String  "
   ]
  },
  {
   "cell_type": "code",
   "execution_count": 10,
   "metadata": {},
   "outputs": [
    {
     "name": "stdout",
     "output_type": "stream",
     "text": [
      "String with the use of Single Quotes: \n",
      "Welcome to the Geeks World\n",
      "\n",
      "String with the use of Double Quotes: \n",
      "I'm a Geek\n",
      "\n",
      "String with the use of Triple Quotes: \n",
      "I'm a Geek and I live in a world of \"Geeks\"\n",
      "\n",
      "Creating a multiline String: \n",
      "Geeks \n",
      "            For \n",
      "            Life\n"
     ]
    }
   ],
   "source": [
    "\n",
    "# with single Quotes \n",
    "String1 = 'Welcome to the Geeks World'\n",
    "print(\"String with the use of Single Quotes: \") \n",
    "print(String1) \n",
    "  \n",
    "# Creating a String \n",
    "# with double Quotes \n",
    "String1 = \"I'm a Geek\"\n",
    "print(\"\\nString with the use of Double Quotes: \") \n",
    "print(String1) \n",
    "  \n",
    "# Creating a String \n",
    "# with triple Quotes \n",
    "String1 = '''I'm a Geek and I live in a world of \"Geeks\"'''\n",
    "print(\"\\nString with the use of Triple Quotes: \") \n",
    "print(String1) \n",
    "  \n",
    "# Creating String with triple \n",
    "# Quotes allows multiple lines \n",
    "String1 = '''Geeks \n",
    "            For \n",
    "            Life'''\n",
    "print(\"\\nCreating a multiline String: \") \n",
    "print(String1) "
   ]
  },
  {
   "cell_type": "markdown",
   "metadata": {},
   "source": [
    "### Accessing characters in Python\n",
    "\n",
    "While accessing an index out of the range will cause an IndexError. Only Integers are allowed to be passed as an index, float or other types will cause a TypeError."
   ]
  },
  {
   "cell_type": "code",
   "execution_count": 11,
   "metadata": {},
   "outputs": [
    {
     "name": "stdout",
     "output_type": "stream",
     "text": [
      "Initial String: \n",
      "GeeksForGeeks\n",
      "\n",
      "First character of String is: \n",
      "G\n",
      "\n",
      "Last character of String is: \n",
      "s\n"
     ]
    }
   ],
   "source": [
    "String1 = \"GeeksForGeeks\"\n",
    "print(\"Initial String: \") \n",
    "print(String1) \n",
    "  \n",
    "# Printing First character \n",
    "print(\"\\nFirst character of String is: \") \n",
    "print(String1[0]) \n",
    "  \n",
    "# Printing Last character \n",
    "print(\"\\nLast character of String is: \") \n",
    "print(String1[-1]) "
   ]
  },
  {
   "cell_type": "markdown",
   "metadata": {},
   "source": [
    "### String Slicing "
   ]
  },
  {
   "cell_type": "code",
   "execution_count": 13,
   "metadata": {},
   "outputs": [
    {
     "name": "stdout",
     "output_type": "stream",
     "text": [
      "Initial String: \n",
      "GeeksForGeeks\n",
      "\n",
      "Slicing characters from 3-12: \n",
      "ksForGeek\n",
      "\n",
      "Slicing characters between 3rd and 2nd last character: \n",
      "ksForGee\n"
     ]
    }
   ],
   "source": [
    "# demonstrate String slicing \n",
    "  \n",
    "# Creating a String \n",
    "String1 = \"GeeksForGeeks\"\n",
    "print(\"Initial String: \")  \n",
    "print(String1) \n",
    "  \n",
    "# Printing 3rd to 12th character \n",
    "print(\"\\nSlicing characters from 3-12: \") \n",
    "print(String1[3:12]) \n",
    "  \n",
    "# Printing characters between  \n",
    "# 3rd and 2nd last character \n",
    "print(\"\\nSlicing characters between \" +\n",
    "    \"3rd and 2nd last character: \") \n",
    "print(String1[3:-2]) "
   ]
  },
  {
   "cell_type": "markdown",
   "metadata": {},
   "source": [
    "### Deleting/Updating from a String  "
   ]
  },
  {
   "cell_type": "code",
   "execution_count": 14,
   "metadata": {},
   "outputs": [
    {
     "name": "stdout",
     "output_type": "stream",
     "text": [
      "Initial String: \n",
      "Hello, I'm a Geek\n"
     ]
    },
    {
     "ename": "TypeError",
     "evalue": "'str' object does not support item assignment",
     "output_type": "error",
     "traceback": [
      "\u001b[1;31m---------------------------------------------------------------------------\u001b[0m",
      "\u001b[1;31mTypeError\u001b[0m                                 Traceback (most recent call last)",
      "\u001b[1;32m<ipython-input-14-a7c5f8f6d259>\u001b[0m in \u001b[0;36m<module>\u001b[1;34m\u001b[0m\n\u001b[0;32m      8\u001b[0m \u001b[1;31m# Updating a character\u001b[0m\u001b[1;33m\u001b[0m\u001b[1;33m\u001b[0m\u001b[1;33m\u001b[0m\u001b[0m\n\u001b[0;32m      9\u001b[0m \u001b[1;31m# of the String\u001b[0m\u001b[1;33m\u001b[0m\u001b[1;33m\u001b[0m\u001b[1;33m\u001b[0m\u001b[0m\n\u001b[1;32m---> 10\u001b[1;33m \u001b[0mString1\u001b[0m\u001b[1;33m[\u001b[0m\u001b[1;36m2\u001b[0m\u001b[1;33m]\u001b[0m \u001b[1;33m=\u001b[0m \u001b[1;34m'p'\u001b[0m\u001b[1;33m\u001b[0m\u001b[1;33m\u001b[0m\u001b[0m\n\u001b[0m\u001b[0;32m     11\u001b[0m \u001b[0mprint\u001b[0m\u001b[1;33m(\u001b[0m\u001b[1;34m\"\\nUpdating character at 2nd Index: \"\u001b[0m\u001b[1;33m)\u001b[0m\u001b[1;33m\u001b[0m\u001b[1;33m\u001b[0m\u001b[0m\n\u001b[0;32m     12\u001b[0m \u001b[0mprint\u001b[0m\u001b[1;33m(\u001b[0m\u001b[0mString1\u001b[0m\u001b[1;33m)\u001b[0m\u001b[1;33m\u001b[0m\u001b[1;33m\u001b[0m\u001b[0m\n",
      "\u001b[1;31mTypeError\u001b[0m: 'str' object does not support item assignment"
     ]
    }
   ],
   "source": [
    "\n",
    "# Python Program to Update \n",
    "# character of a String \n",
    "  \n",
    "String1 = \"Hello, I'm a Geek\"\n",
    "print(\"Initial String: \") \n",
    "print(String1) \n",
    "  \n",
    "# Updating a character  \n",
    "# of the String \n",
    "String1[2] = 'p'\n",
    "print(\"\\nUpdating character at 2nd Index: \") \n",
    "print(String1) \n"
   ]
  },
  {
   "cell_type": "code",
   "execution_count": 15,
   "metadata": {},
   "outputs": [
    {
     "name": "stdout",
     "output_type": "stream",
     "text": [
      "Initial String: \n",
      "Hello, I'm a Geek\n",
      "\n",
      "Updated String: \n",
      "Welcome to the Geek World\n"
     ]
    }
   ],
   "source": [
    "\n",
    "# Python Program to Update \n",
    "# entire String \n",
    "  \n",
    "String1 = \"Hello, I'm a Geek\"\n",
    "print(\"Initial String: \") \n",
    "print(String1) \n",
    "  \n",
    "# Updating a String \n",
    "String1 = \"Welcome to the Geek World\"\n",
    "print(\"\\nUpdated String: \") \n",
    "print(String1) \n"
   ]
  },
  {
   "cell_type": "code",
   "execution_count": 16,
   "metadata": {},
   "outputs": [
    {
     "name": "stdout",
     "output_type": "stream",
     "text": [
      "Initial String: \n",
      "Hello, I'm a Geek\n"
     ]
    },
    {
     "ename": "TypeError",
     "evalue": "'str' object doesn't support item deletion",
     "output_type": "error",
     "traceback": [
      "\u001b[1;31m---------------------------------------------------------------------------\u001b[0m",
      "\u001b[1;31mTypeError\u001b[0m                                 Traceback (most recent call last)",
      "\u001b[1;32m<ipython-input-16-0aa9d298b96d>\u001b[0m in \u001b[0;36m<module>\u001b[1;34m\u001b[0m\n\u001b[0;32m      8\u001b[0m \u001b[1;31m# Deleting a character\u001b[0m\u001b[1;33m\u001b[0m\u001b[1;33m\u001b[0m\u001b[1;33m\u001b[0m\u001b[0m\n\u001b[0;32m      9\u001b[0m \u001b[1;31m# of the String\u001b[0m\u001b[1;33m\u001b[0m\u001b[1;33m\u001b[0m\u001b[1;33m\u001b[0m\u001b[0m\n\u001b[1;32m---> 10\u001b[1;33m \u001b[1;32mdel\u001b[0m \u001b[0mString1\u001b[0m\u001b[1;33m[\u001b[0m\u001b[1;36m2\u001b[0m\u001b[1;33m]\u001b[0m\u001b[1;33m\u001b[0m\u001b[1;33m\u001b[0m\u001b[0m\n\u001b[0m\u001b[0;32m     11\u001b[0m \u001b[0mprint\u001b[0m\u001b[1;33m(\u001b[0m\u001b[1;34m\"\\nDeleting character at 2nd Index: \"\u001b[0m\u001b[1;33m)\u001b[0m\u001b[1;33m\u001b[0m\u001b[1;33m\u001b[0m\u001b[0m\n\u001b[0;32m     12\u001b[0m \u001b[0mprint\u001b[0m\u001b[1;33m(\u001b[0m\u001b[0mString1\u001b[0m\u001b[1;33m)\u001b[0m\u001b[1;33m\u001b[0m\u001b[1;33m\u001b[0m\u001b[0m\n",
      "\u001b[1;31mTypeError\u001b[0m: 'str' object doesn't support item deletion"
     ]
    }
   ],
   "source": [
    "\n",
    "# Python Program to Delete \n",
    "# characters from a String \n",
    "  \n",
    "String1 = \"Hello, I'm a Geek\"\n",
    "print(\"Initial String: \") \n",
    "print(String1) \n",
    "  \n",
    "# Deleting a character  \n",
    "# of the String \n",
    "del String1[2]  \n",
    "print(\"\\nDeleting character at 2nd Index: \") \n",
    "print(String1) \n"
   ]
  },
  {
   "cell_type": "code",
   "execution_count": 17,
   "metadata": {},
   "outputs": [
    {
     "name": "stdout",
     "output_type": "stream",
     "text": [
      "Initial String: \n",
      "Hello, I'm a Geek\n",
      "\n",
      "Deleting entire String: \n"
     ]
    },
    {
     "ename": "NameError",
     "evalue": "name 'String1' is not defined",
     "output_type": "error",
     "traceback": [
      "\u001b[1;31m---------------------------------------------------------------------------\u001b[0m",
      "\u001b[1;31mNameError\u001b[0m                                 Traceback (most recent call last)",
      "\u001b[1;32m<ipython-input-17-bf3baf3a343a>\u001b[0m in \u001b[0;36m<module>\u001b[1;34m\u001b[0m\n\u001b[0;32m      9\u001b[0m \u001b[1;32mdel\u001b[0m \u001b[0mString1\u001b[0m\u001b[1;33m\u001b[0m\u001b[1;33m\u001b[0m\u001b[0m\n\u001b[0;32m     10\u001b[0m \u001b[0mprint\u001b[0m\u001b[1;33m(\u001b[0m\u001b[1;34m\"\\nDeleting entire String: \"\u001b[0m\u001b[1;33m)\u001b[0m\u001b[1;33m\u001b[0m\u001b[1;33m\u001b[0m\u001b[0m\n\u001b[1;32m---> 11\u001b[1;33m \u001b[0mprint\u001b[0m\u001b[1;33m(\u001b[0m\u001b[0mString1\u001b[0m\u001b[1;33m)\u001b[0m\u001b[1;33m\u001b[0m\u001b[1;33m\u001b[0m\u001b[0m\n\u001b[0m",
      "\u001b[1;31mNameError\u001b[0m: name 'String1' is not defined"
     ]
    }
   ],
   "source": [
    "# entire String \n",
    "  \n",
    "String1 = \"Hello, I'm a Geek\"\n",
    "print(\"Initial String: \") \n",
    "print(String1) \n",
    "  \n",
    "# Deleting a String \n",
    "# with the use of del \n",
    "del String1  \n",
    "print(\"\\nDeleting entire String: \") \n",
    "print(String1) "
   ]
  },
  {
   "cell_type": "markdown",
   "metadata": {},
   "source": [
    "### Escape Sequencing in Python "
   ]
  },
  {
   "cell_type": "code",
   "execution_count": 21,
   "metadata": {},
   "outputs": [
    {
     "name": "stdout",
     "output_type": "stream",
     "text": [
      "Initial String with use of Triple Quotes: \n",
      "I'm a \"Geek\"\n",
      "\n",
      "Escaping Single Quote: \n",
      "I'm a \"Geek\"\n",
      "\n",
      "Escaping Double Quotes: \n",
      "I'm a \"Geek\"\n",
      "\n",
      "Escaping Backslashes: \n",
      "C:\\Python\\Geeks\\\n"
     ]
    }
   ],
   "source": [
    "# Initial String \n",
    "String1 = '''I'm a \"Geek\"'''\n",
    "print(\"Initial String with use of Triple Quotes: \") \n",
    "print(String1) \n",
    "\n",
    "\n",
    "  \n",
    "# Escaping Single Quote  \n",
    "String1 = 'I\\'m a \"Geek\"'\n",
    "print(\"\\nEscaping Single Quote: \") \n",
    "print(String1) \n",
    "\n",
    "\n",
    "# Escaping Double Quotes \n",
    "String1 = \"I'm a \\\"Geek\\\"\"\n",
    "print(\"\\nEscaping Double Quotes: \") \n",
    "print(String1) \n",
    "  \n",
    "    \n",
    "# use of Escape Sequences \n",
    "String1 = \"C:\\\\Python\\\\Geeks\\\\\"\n",
    "print(\"\\nEscaping Backslashes: \") \n",
    "print(String1) "
   ]
  },
  {
   "cell_type": "markdown",
   "metadata": {},
   "source": [
    "## Strings"
   ]
  },
  {
   "cell_type": "code",
   "execution_count": 1,
   "metadata": {},
   "outputs": [
    {
     "name": "stdout",
     "output_type": "stream",
     "text": [
      "I have invented new app\n",
      "I'm a geek\n"
     ]
    }
   ],
   "source": [
    "# Creating a string\n",
    "string1=\"I'm a geek\"\n",
    "print(\"I have invented new app\")\n",
    "print(string1)"
   ]
  },
  {
   "cell_type": "code",
   "execution_count": 2,
   "metadata": {},
   "outputs": [
    {
     "name": "stdout",
     "output_type": "stream",
     "text": [
      "i am swedel\n",
      "hey ,how are you ?,\"geek\"\n"
     ]
    }
   ],
   "source": [
    "string1='''hey ,how are you ?,\"geek\"'''\n",
    "print(\"i am swedel\")\n",
    "print(string1)"
   ]
  },
  {
   "cell_type": "code",
   "execution_count": 10,
   "metadata": {},
   "outputs": [
    {
     "name": "stdout",
     "output_type": "stream",
     "text": [
      "i am        \n",
      "from xyz\n",
      "college \n"
     ]
    }
   ],
   "source": [
    "string1=  '''i am        \n",
    "from xyz\n",
    "college '''\n",
    "\n",
    "print(string1)"
   ]
  },
  {
   "cell_type": "code",
   "execution_count": 18,
   "metadata": {},
   "outputs": [
    {
     "name": "stdout",
     "output_type": "stream",
     "text": [
      "\n",
      "Printing in HEX with the use of Escape Sequences: \n",
      "This is Veeks in HEX\n"
     ]
    }
   ],
   "source": [
    "# Printing Geeks in HEX \n",
    "String1 = \"This is \\x56\\x65\\x65\\x6b\\x73 in \\x48\\x45\\x58\"\n",
    "print(\"\\nPrinting in HEX with the use of Escape Sequences: \") \n",
    "print(String1) "
   ]
  },
  {
   "cell_type": "markdown",
   "metadata": {},
   "source": [
    "# capitalize()\n",
    "\n",
    "first character into uppercase without altering the whole string.\n",
    "\n",
    "#### No parameter is required."
   ]
  },
  {
   "cell_type": "code",
   "execution_count": 3,
   "metadata": {},
   "outputs": [
    {
     "name": "stdout",
     "output_type": "stream",
     "text": [
      "New str : Swedel\n",
      "Old str :  swedel\n"
     ]
    }
   ],
   "source": [
    "#variable declaration\n",
    "str=\"swedel\"\n",
    "#calling function\n",
    "str2=str.capitalize()\n",
    "print(\"New str :\",str2)\n",
    "print(\"Old str : \",str)\n",
    "\n"
   ]
  },
  {
   "cell_type": "markdown",
   "metadata": {},
   "source": [
    "## casefold()\n",
    "\n",
    "- It returns lowercase string.\n",
    "\n",
    "#### No parameter is required."
   ]
  },
  {
   "cell_type": "code",
   "execution_count": 5,
   "metadata": {},
   "outputs": [
    {
     "name": "stdout",
     "output_type": "stream",
     "text": [
      "swedel\n"
     ]
    }
   ],
   "source": [
    "#variable declaration\n",
    "str=\"SWEDEL\"\n",
    "str2=str.casefold()\n",
    "print(str2)"
   ]
  },
  {
   "cell_type": "markdown",
   "metadata": {},
   "source": [
    "##  Center(width[,fillchar]) "
   ]
  },
  {
   "cell_type": "code",
   "execution_count": 6,
   "metadata": {},
   "outputs": [
    {
     "name": "stdout",
     "output_type": "stream",
     "text": [
      "Old value: Hello Javatpoint\n",
      "New value: ##Hello Javatpoint##\n"
     ]
    }
   ],
   "source": [
    "    # Python center() function example  \n",
    "    # Variable declaration  \n",
    "    str = \"Hello Javatpoint\"  \n",
    "    # Calling function  \n",
    "    str2 = str.center(20,'#')  \n",
    "    # Displaying result  \n",
    "    print(\"Old value:\", str)  \n",
    "    print(\"New value:\", str2)  "
   ]
  },
  {
   "cell_type": "markdown",
   "metadata": {},
   "source": [
    "## count()"
   ]
  },
  {
   "cell_type": "code",
   "execution_count": 8,
   "metadata": {},
   "outputs": [
    {
     "name": "stdout",
     "output_type": "stream",
     "text": [
      "2\n"
     ]
    }
   ],
   "source": [
    "str=\"swedel\"\n",
    "str2=str.count(\"e\")\n",
    "print(str2)"
   ]
  },
  {
   "cell_type": "code",
   "execution_count": 9,
   "metadata": {},
   "outputs": [
    {
     "name": "stdout",
     "output_type": "stream",
     "text": [
      "occurences: 6\n"
     ]
    }
   ],
   "source": [
    "str = \"ab bc ca de ed ad da ab bc ca\"  \n",
    "oc = str.count('a')  \n",
    "# Displaying result  \n",
    "print(\"occurences:\", oc)  "
   ]
  },
  {
   "cell_type": "markdown",
   "metadata": {},
   "source": [
    "## encode()"
   ]
  },
  {
   "cell_type": "code",
   "execution_count": 23,
   "metadata": {},
   "outputs": [
    {
     "name": "stdout",
     "output_type": "stream",
     "text": [
      "Old value HELLO\n",
      "Encoded value b'HELLO'\n"
     ]
    }
   ],
   "source": [
    "str = \"HELLO\"  \n",
    "encode = str.encode()  \n",
    "# Displaying result  \n",
    "print(\"Old value\", str)  \n",
    "print(\"Encoded value\", encode)  "
   ]
  },
  {
   "cell_type": "markdown",
   "metadata": {},
   "source": [
    "### endswith(suffix,begin=0,end=len(string)) "
   ]
  },
  {
   "cell_type": "code",
   "execution_count": 25,
   "metadata": {},
   "outputs": [
    {
     "name": "stdout",
     "output_type": "stream",
     "text": [
      "True\n"
     ]
    }
   ],
   "source": [
    "str = \"Hello this is javatpoint.\"  \n",
    "isends = str.endswith(\".\")  \n",
    "# Displaying result  \n",
    "print(isends)  "
   ]
  },
  {
   "cell_type": "markdown",
   "metadata": {},
   "source": [
    "### expandtabs( tabsize=8)"
   ]
  },
  {
   "cell_type": "code",
   "execution_count": 32,
   "metadata": {},
   "outputs": [
    {
     "name": "stdout",
     "output_type": "stream",
     "text": [
      "Welcome   to   the   Javatpoint.\n"
     ]
    }
   ],
   "source": [
    "str = \"Welcome \\t to \\t the \\t Javatpoint.\"  \n",
    "# Calling function  \n",
    "str2 = str.expandtabs(1)  \n",
    "# Displaying result  \n",
    "print(str2)  "
   ]
  },
  {
   "cell_type": "markdown",
   "metadata": {},
   "source": [
    "## .format(*args,**kwargs) "
   ]
  },
  {
   "cell_type": "markdown",
   "metadata": {},
   "source": [
    "### String index()  "
   ]
  },
  {
   "cell_type": "markdown",
   "metadata": {},
   "source": [
    "### format_map() "
   ]
  },
  {
   "cell_type": "code",
   "execution_count": 1,
   "metadata": {},
   "outputs": [
    {
     "name": "stdout",
     "output_type": "stream",
     "text": [
      "4 -5\n"
     ]
    }
   ],
   "source": [
    "point = {'x':4,'y':-5}\n",
    "print('{x} {y}'.format(**point))"
   ]
  },
  {
   "cell_type": "code",
   "execution_count": 5,
   "metadata": {},
   "outputs": [
    {
     "name": "stdout",
     "output_type": "stream",
     "text": [
      "hello, and welcome to my world!\n"
     ]
    }
   ],
   "source": [
    "txt = \"Hello, And Welcome To My World!\"\n",
    "\n",
    "x = txt.casefold()\n",
    "\n",
    "print(x)"
   ]
  },
  {
   "cell_type": "code",
   "execution_count": 6,
   "metadata": {},
   "outputs": [
    {
     "name": "stdout",
     "output_type": "stream",
     "text": [
      "('Java ', 'is', ' a programming language')\n"
     ]
    }
   ],
   "source": [
    "str = \"Java is a programming language\"  \n",
    "# Calling function  \n",
    "str2 = str.partition(\"is\")  \n",
    "# Displaying result  \n",
    "print(str2)  "
   ]
  },
  {
   "cell_type": "code",
   "execution_count": 7,
   "metadata": {},
   "outputs": [
    {
     "name": "stdout",
     "output_type": "stream",
     "text": [
      "('', 'Java', ' is a programming language')\n"
     ]
    }
   ],
   "source": [
    "# when seperate from the start  \n",
    "str2 = str.partition(\"Java\")  \n",
    "print(str2)  "
   ]
  },
  {
   "cell_type": "code",
   "execution_count": 8,
   "metadata": {},
   "outputs": [
    {
     "name": "stdout",
     "output_type": "stream",
     "text": [
      "('Java is a programming ', 'language', '')\n"
     ]
    }
   ],
   "source": [
    "# when seperate is the end  \n",
    "str2 = str.partition(\"language\")  \n",
    "print(str2)  "
   ]
  },
  {
   "cell_type": "code",
   "execution_count": 9,
   "metadata": {},
   "outputs": [
    {
     "name": "stdout",
     "output_type": "stream",
     "text": [
      "('J', 'av', 'a is a programming language')\n"
     ]
    }
   ],
   "source": [
    "# when seperater is a substring  \n",
    "str2 = str.partition(\"av\")  \n",
    "print(str2)  "
   ]
  },
  {
   "cell_type": "code",
   "execution_count": 10,
   "metadata": {},
   "outputs": [
    {
     "name": "stdout",
     "output_type": "stream",
     "text": [
      "              banana is my favorite fruit.\n"
     ]
    }
   ],
   "source": [
    "txt = \"banana\"\n",
    "\n",
    "x = txt.rjust(20)\n",
    "\n",
    "print(x, \"is my favorite fruit.\") "
   ]
  },
  {
   "cell_type": "code",
   "execution_count": 11,
   "metadata": {},
   "outputs": [
    {
     "name": "stdout",
     "output_type": "stream",
     "text": [
      "OOOOOOOOOOOOOObanana\n"
     ]
    }
   ],
   "source": [
    "txt = \"banana\"\n",
    "\n",
    "x = txt.rjust(20, \"O\")\n",
    "\n",
    "print(x) "
   ]
  },
  {
   "cell_type": "code",
   "execution_count": 12,
   "metadata": {},
   "outputs": [
    {
     "name": "stdout",
     "output_type": "stream",
     "text": [
      "('', '', 'I could eat bananas all day, bananas are my favorite fruit')\n"
     ]
    }
   ],
   "source": [
    "txt = \"I could eat bananas all day, bananas are my favorite fruit\"\n",
    "\n",
    "x = txt.rpartition(\"apples\")\n",
    "\n",
    "print(x) "
   ]
  },
  {
   "cell_type": "code",
   "execution_count": 13,
   "metadata": {},
   "outputs": [
    {
     "name": "stdout",
     "output_type": "stream",
     "text": [
      "('I could eat bananas all day, ', 'bananas', ' are my favorite fruit')\n"
     ]
    }
   ],
   "source": [
    "txt = \"I could eat bananas all day, bananas are my favorite fruit\"\n",
    "\n",
    "x = txt.rpartition(\"bananas\")\n",
    "\n",
    "print(x) "
   ]
  },
  {
   "cell_type": "code",
   "execution_count": 16,
   "metadata": {},
   "outputs": [
    {
     "data": {
      "text/plain": [
       "0"
      ]
     },
     "execution_count": 16,
     "metadata": {},
     "output_type": "execute_result"
    }
   ],
   "source": [
    "abs(0)"
   ]
  },
  {
   "cell_type": "code",
   "execution_count": 17,
   "metadata": {},
   "outputs": [
    {
     "data": {
      "text/plain": [
       "False"
      ]
     },
     "execution_count": 17,
     "metadata": {},
     "output_type": "execute_result"
    }
   ],
   "source": [
    "all([0])"
   ]
  },
  {
   "cell_type": "code",
   "execution_count": 20,
   "metadata": {},
   "outputs": [
    {
     "data": {
      "text/plain": [
       "True"
      ]
     },
     "execution_count": 20,
     "metadata": {},
     "output_type": "execute_result"
    }
   ],
   "source": [
    "class fruit:\n",
    "    size=7\n",
    "orange=fruit()\n",
    "orange.size\n",
    "\n",
    "getattr(orange,'size')\n",
    "hasattr(orange,\"size\")"
   ]
  },
  {
   "cell_type": "markdown",
   "metadata": {},
   "source": [
    "## for list methods "
   ]
  },
  {
   "cell_type": "code",
   "execution_count": 38,
   "metadata": {},
   "outputs": [
    {
     "name": "stdout",
     "output_type": "stream",
     "text": [
      "3\n",
      "2\n"
     ]
    }
   ],
   "source": [
    "list1,list2=['phy','swe','rf'],[234,'rtd']\n",
    "print(len(list1))\n",
    "print(len(list2))\n",
    " \n"
   ]
  },
  {
   "cell_type": "code",
   "execution_count": 43,
   "metadata": {},
   "outputs": [
    {
     "name": "stdout",
     "output_type": "stream",
     "text": [
      "899\n",
      "rtd\n"
     ]
    }
   ],
   "source": [
    "list1,list2=[899,333,344],['dd','rtd']\n",
    "print(max(list1))\n",
    "print(max(list2))\n",
    " "
   ]
  },
  {
   "cell_type": "code",
   "execution_count": 44,
   "metadata": {},
   "outputs": [
    {
     "name": "stdout",
     "output_type": "stream",
     "text": [
      "333\n",
      "dd\n"
     ]
    }
   ],
   "source": [
    "list1,list2=[899,333,344],['dd','rtd']\n",
    "print(min(list1))\n",
    "print(min(list2))"
   ]
  },
  {
   "cell_type": "code",
   "execution_count": 48,
   "metadata": {},
   "outputs": [
    {
     "name": "stdout",
     "output_type": "stream",
     "text": [
      "2\n"
     ]
    }
   ],
   "source": [
    "list = [123,'dff',123,344,'fff'];\n",
    "print(list.count(123))\n",
    "\n",
    " "
   ]
  },
  {
   "cell_type": "code",
   "execution_count": 56,
   "metadata": {},
   "outputs": [
    {
     "data": {
      "text/plain": [
       "1.3333333333333333"
      ]
     },
     "execution_count": 56,
     "metadata": {},
     "output_type": "execute_result"
    }
   ],
   "source": [
    "abs(-4/3)"
   ]
  },
  {
   "cell_type": "code",
   "execution_count": 57,
   "metadata": {},
   "outputs": [
    {
     "data": {
      "text/plain": [
       "-1"
      ]
     },
     "execution_count": 57,
     "metadata": {},
     "output_type": "execute_result"
    }
   ],
   "source": [
    "round(-4/3)"
   ]
  },
  {
   "cell_type": "code",
   "execution_count": 58,
   "metadata": {},
   "outputs": [
    {
     "data": {
      "text/plain": [
       "2"
      ]
     },
     "execution_count": 58,
     "metadata": {},
     "output_type": "execute_result"
    }
   ],
   "source": [
    "min(2,3,5)"
   ]
  },
  {
   "cell_type": "code",
   "execution_count": 79,
   "metadata": {},
   "outputs": [
    {
     "data": {
      "text/plain": [
       "'d'"
      ]
     },
     "execution_count": 79,
     "metadata": {},
     "output_type": "execute_result"
    }
   ],
   "source": [
    "max(\"a\",\"b\",\"d\")"
   ]
  },
  {
   "cell_type": "code",
   "execution_count": 75,
   "metadata": {},
   "outputs": [
    {
     "data": {
      "text/plain": [
       "['', '', '', '', 'swedel', 'dsouza', '', '']"
      ]
     },
     "execution_count": 75,
     "metadata": {},
     "output_type": "execute_result"
    }
   ],
   "source": [
    "a='    swedel dsouza  '\n",
    "a.strip()\n",
    "a.replace('e','c')\n",
    "a.split(' ')"
   ]
  },
  {
   "cell_type": "code",
   "execution_count": 80,
   "metadata": {},
   "outputs": [
    {
     "data": {
      "text/plain": [
       "dict_keys(['name', 'age', 'vaccinated', 'height', 'birth_year', 'belongings'])"
      ]
     },
     "execution_count": 80,
     "metadata": {},
     "output_type": "execute_result"
    }
   ],
   "source": [
    "dog_dict= { 'name':'Fredie' ,\n",
    "           'age':9,\n",
    "           'vaccinated':True,\n",
    "           'height':1.1,\n",
    "           'birth_year':2001,\n",
    "           \"belongings\":['bone',\"little ball\"]}\n",
    "dog_dict.keys()\n",
    "\n",
    "    \n"
   ]
  },
  {
   "cell_type": "code",
   "execution_count": 81,
   "metadata": {},
   "outputs": [
    {
     "data": {
      "text/plain": [
       "dict_values(['Fredie', 9, True, 1.1, 2001, ['bone', 'little ball']])"
      ]
     },
     "execution_count": 81,
     "metadata": {},
     "output_type": "execute_result"
    }
   ],
   "source": [
    "dog_dict.values()"
   ]
  },
  {
   "cell_type": "code",
   "execution_count": 82,
   "metadata": {},
   "outputs": [],
   "source": [
    "dog_dict.clear()"
   ]
  },
  {
   "cell_type": "code",
   "execution_count": 84,
   "metadata": {},
   "outputs": [
    {
     "data": {
      "text/plain": [
       "{'name': 'swedel'}"
      ]
     },
     "execution_count": 84,
     "metadata": {},
     "output_type": "execute_result"
    }
   ],
   "source": [
    "dog_dict['name']=\"swedel\"\n",
    "dog_dict"
   ]
  },
  {
   "cell_type": "code",
   "execution_count": 97,
   "metadata": {},
   "outputs": [
    {
     "data": {
      "text/plain": [
       "2.909090909090909"
      ]
     },
     "execution_count": 97,
     "metadata": {},
     "output_type": "execute_result"
    }
   ],
   "source": [
    "import statistics \n",
    "test=[1,1,2,2,3,3,3,3,4,5,5]\n",
    "statistics.mean(test)\n"
   ]
  },
  {
   "cell_type": "code",
   "execution_count": 98,
   "metadata": {},
   "outputs": [
    {
     "data": {
      "text/plain": [
       "3"
      ]
     },
     "execution_count": 98,
     "metadata": {},
     "output_type": "execute_result"
    }
   ],
   "source": [
    "statistics.median(test)"
   ]
  },
  {
   "cell_type": "code",
   "execution_count": 99,
   "metadata": {},
   "outputs": [
    {
     "data": {
      "text/plain": [
       "3"
      ]
     },
     "execution_count": 99,
     "metadata": {},
     "output_type": "execute_result"
    }
   ],
   "source": [
    "statistics.mode(test)"
   ]
  },
  {
   "cell_type": "code",
   "execution_count": 92,
   "metadata": {},
   "outputs": [
    {
     "data": {
      "text/plain": [
       "32"
      ]
     },
     "execution_count": 92,
     "metadata": {},
     "output_type": "execute_result"
    }
   ],
   "source": [
    "sum(test)"
   ]
  },
  {
   "cell_type": "code",
   "execution_count": 93,
   "metadata": {},
   "outputs": [
    {
     "data": {
      "text/plain": [
       "11"
      ]
     },
     "execution_count": 93,
     "metadata": {},
     "output_type": "execute_result"
    }
   ],
   "source": [
    "len(test)"
   ]
  },
  {
   "cell_type": "code",
   "execution_count": 94,
   "metadata": {},
   "outputs": [
    {
     "data": {
      "text/plain": [
       "2.909090909090909"
      ]
     },
     "execution_count": 94,
     "metadata": {},
     "output_type": "execute_result"
    }
   ],
   "source": [
    "sum(test)/len(test)"
   ]
  },
  {
   "cell_type": "code",
   "execution_count": 89,
   "metadata": {},
   "outputs": [
    {
     "name": "stdout",
     "output_type": "stream",
     "text": [
      "Mean of data set 4 is 49/24\n"
     ]
    }
   ],
   "source": [
    "from fractions import Fraction as fr \n",
    "data4 = (fr(1, 2), fr(44, 12), fr(10, 3), fr(2, 3)) \n",
    "from statistics import mean\n",
    "print(\"Mean of data set 4 is % s\" % (mean(data4))) "
   ]
  },
  {
   "cell_type": "code",
   "execution_count": 12,
   "metadata": {},
   "outputs": [
    {
     "name": "stdout",
     "output_type": "stream",
     "text": [
      "The harmonic _mean values is : 1.6363636363636365\n"
     ]
    }
   ],
   "source": [
    "import statistics\n",
    "from statistics import mean\n",
    "list = [1,2,3]\n",
    "print (\"The harmonic _mean values is : \",end=\"\") \n",
    "print (statistics.harmonic_mean(list))"
   ]
  },
  {
   "cell_type": "markdown",
   "metadata": {},
   "source": [
    "## open a file\n"
   ]
  },
  {
   "cell_type": "code",
   "execution_count": 40,
   "metadata": {},
   "outputs": [
    {
     "name": "stdout",
     "output_type": "stream",
     "text": [
      "Name of the file :  new.txt\n",
      "Closed or not :  False\n",
      "Opening Mode :  wb\n"
     ]
    }
   ],
   "source": [
    "fo=open(\"new.txt\",\"wb\")\n",
    "print(\"Name of the file : \" ,fo.name)\n",
    "print(\"Closed or not : \",fo.closed)\n",
    "print(\"Opening Mode : \",fo.mode)\n",
    "fo.close()"
   ]
  },
  {
   "cell_type": "markdown",
   "metadata": {},
   "source": [
    "## close() method"
   ]
  },
  {
   "cell_type": "code",
   "execution_count": 41,
   "metadata": {},
   "outputs": [
    {
     "name": "stdout",
     "output_type": "stream",
     "text": [
      "Name of the file :  new.txt\n"
     ]
    }
   ],
   "source": [
    "#Open a file\n",
    "fo = open(\"new.txt\",\"wb\")\n",
    "print(\"Name of the file : \",fo.name)\n",
    "\n",
    "\n",
    "#Close opened file\n",
    "fo.close()"
   ]
  },
  {
   "cell_type": "markdown",
   "metadata": {},
   "source": [
    "## write()  method"
   ]
  },
  {
   "cell_type": "code",
   "execution_count": 42,
   "metadata": {},
   "outputs": [],
   "source": [
    "fo=open(\"new.txt\",\"w\")\n",
    "fo.write(\"Python  is a great langauge.\\n yeah its great!!\\n\")\n",
    "\n",
    "# Close opened file\n",
    "fo.close()"
   ]
  },
  {
   "cell_type": "markdown",
   "metadata": {},
   "source": [
    "## read() method "
   ]
  },
  {
   "cell_type": "code",
   "execution_count": 43,
   "metadata": {},
   "outputs": [
    {
     "name": "stdout",
     "output_type": "stream",
     "text": [
      "Read String is : Python  is a great langauge.\n",
      " yeah its great!!\n",
      "\n"
     ]
    }
   ],
   "source": [
    "fo=open(\"new.txt\",\"r+\")\n",
    "str=fo.read()\n",
    "print(\"Read String is :\",str)\n",
    "\n",
    "\n",
    "#close opened file\n",
    "fo.close()\n",
    "\n"
   ]
  },
  {
   "cell_type": "markdown",
   "metadata": {},
   "source": [
    "### File Positions \n",
    "\n",
    "-   tell() method tells you the current position within the file\n",
    "\n",
    "-   seek(offset[, from]) method changes the current file position"
   ]
  },
  {
   "cell_type": "code",
   "execution_count": 44,
   "metadata": {},
   "outputs": [
    {
     "name": "stdout",
     "output_type": "stream",
     "text": [
      "Read String is :  Python  is\n",
      "Current file position :  10\n",
      "Again read String is :  Python  is\n"
     ]
    }
   ],
   "source": [
    "# Open a file\n",
    "fo = open(\"new.txt\", \"r+\")\n",
    "str = fo.read(10)\n",
    "print (\"Read String is : \", str)\n",
    "\n",
    "# Check current position\n",
    "position = fo.tell()\n",
    "print (\"Current file position : \", position)\n",
    "\n",
    "# Reposition pointer at the beginning once again\n",
    "position = fo.seek(0, 0)\n",
    "str = fo.read(10)\n",
    "print (\"Again read String is : \", str)\n",
    "\n",
    "# Close opened file\n",
    "fo.close()"
   ]
  },
  {
   "cell_type": "markdown",
   "metadata": {},
   "source": [
    "##  Renaming and Deleting Files\n",
    "\n",
    " -   rename() Method\n",
    " -   remove() Method\n",
    " \n",
    " \n",
    " \n",
    " ###  Syntax\n",
    " os.rename(current_file_name, new_file_name)\n"
   ]
  },
  {
   "cell_type": "code",
   "execution_count": 45,
   "metadata": {},
   "outputs": [],
   "source": [
    "import os\n",
    "\n",
    "# Rename a file from test1.txt to test2.txt\n",
    "os.rename( \"new.txt\", \"test.txt\" )"
   ]
  },
  {
   "cell_type": "code",
   "execution_count": 46,
   "metadata": {},
   "outputs": [],
   "source": [
    "import os\n",
    "\n",
    "# Delete file test2.txt\n",
    "os.remove(\"test.txt\")"
   ]
  },
  {
   "cell_type": "markdown",
   "metadata": {},
   "source": [
    "## Directories in Python\n",
    "\n",
    "-   mkdir() Method\n",
    "-   chdir() Method\n",
    "-   getcwd() Method\n",
    "-   rmdir() Method\n",
    "\n",
    "\n",
    "### Syntax\n",
    "os.mkdir(\"newdir\")\n",
    "\n",
    "\n",
    "The os module has several methods that help you create, remove, and change directories."
   ]
  },
  {
   "cell_type": "code",
   "execution_count": 62,
   "metadata": {},
   "outputs": [],
   "source": [
    "# Create directories in the current directory\n",
    "\n",
    "import os\n",
    "\n",
    "# Create a directory \"test\"\n",
    "os.mkdir(\"test\")"
   ]
  },
  {
   "cell_type": "markdown",
   "metadata": {},
   "source": [
    "## The chdir() Method \n",
    "\n",
    "-   change the current directory\n",
    "\n",
    "\n",
    "os.chdir(\"newdir\")"
   ]
  },
  {
   "cell_type": "code",
   "execution_count": 63,
   "metadata": {},
   "outputs": [],
   "source": [
    "import os\n",
    "\n",
    "# Changing a directory to \"/home/newdir\"\n",
    "os.chdir(\"C:\\juppnew\")"
   ]
  },
  {
   "cell_type": "markdown",
   "metadata": {},
   "source": [
    "## getcwd() Method \n",
    "\n",
    "-  displays the current working directory.\n",
    "\n",
    "os.getcwd()"
   ]
  },
  {
   "cell_type": "code",
   "execution_count": 64,
   "metadata": {},
   "outputs": [
    {
     "data": {
      "text/plain": [
       "'C:\\\\juppnew'"
      ]
     },
     "execution_count": 64,
     "metadata": {},
     "output_type": "execute_result"
    }
   ],
   "source": [
    "import os\n",
    "\n",
    "# This would give location of the current directory\n",
    "os.getcwd()"
   ]
  },
  {
   "cell_type": "markdown",
   "metadata": {},
   "source": [
    "##  rmdir() Method \n",
    "-  deletes the directory, which is passed as an argument in the method.\n",
    "\n",
    "\n",
    "os.rmdir('dirname')\n"
   ]
  },
  {
   "cell_type": "code",
   "execution_count": 65,
   "metadata": {},
   "outputs": [],
   "source": [
    "import os\n",
    "\n",
    "# This would  remove \"/tmp/test\"  directory.\n",
    "os.rmdir(\"C:\\\\juppnew\\\\test\" )"
   ]
  },
  {
   "cell_type": "markdown",
   "metadata": {},
   "source": [
    "## File and Directory Related Methods \n",
    "\n",
    "-  File Object Methods\n",
    "\n",
    "-   OS Object Methods"
   ]
  },
  {
   "cell_type": "code",
   "execution_count": null,
   "metadata": {},
   "outputs": [],
   "source": []
  }
 ],
 "metadata": {
  "kernelspec": {
   "display_name": "Python 3",
   "language": "python",
   "name": "python3"
  }
 },
 "nbformat": 4,
 "nbformat_minor": 4
}
