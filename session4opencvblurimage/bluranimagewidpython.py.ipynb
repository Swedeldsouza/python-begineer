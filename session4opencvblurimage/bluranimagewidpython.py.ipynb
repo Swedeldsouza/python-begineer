{
 "cells": [
  {
   "cell_type": "code",
   "execution_count": 23,
   "metadata": {},
   "outputs": [],
   "source": [
    "import cv2"
   ]
  },
  {
   "cell_type": "code",
   "execution_count": 24,
   "metadata": {},
   "outputs": [],
   "source": [
    "img=cv2.imread(\"fest.jpg\")"
   ]
  },
  {
   "cell_type": "code",
   "execution_count": 25,
   "metadata": {},
   "outputs": [],
   "source": [
    "img=cv2.resize(img,(1020,500))"
   ]
  },
  {
   "cell_type": "code",
   "execution_count": 26,
   "metadata": {},
   "outputs": [],
   "source": [
    "cv2.imshow(\"original image\",img)"
   ]
  },
  {
   "cell_type": "code",
   "execution_count": 27,
   "metadata": {},
   "outputs": [],
   "source": [
    "blurimg=cv2.blur(img,ksize=(5,5))"
   ]
  },
  {
   "cell_type": "code",
   "execution_count": 28,
   "metadata": {},
   "outputs": [],
   "source": [
    "cv2.imshow(\"blur image\",blurimg)"
   ]
  },
  {
   "cell_type": "code",
   "execution_count": 29,
   "metadata": {},
   "outputs": [],
   "source": [
    "cv2.waitKey(0) \n",
    "cv2.destroyAllWindows() "
   ]
  },
  {
   "cell_type": "code",
   "execution_count": null,
   "metadata": {},
   "outputs": [],
   "source": [
    "\n"
   ]
  },
  {
   "cell_type": "code",
   "execution_count": null,
   "metadata": {},
   "outputs": [],
   "source": [
    "\n",
    "#2ND CODE"
   ]
  },
  {
   "cell_type": "code",
   "execution_count": 37,
   "metadata": {},
   "outputs": [],
   "source": [
    "# importing opencv CV2 module \n",
    "import cv2  \n",
    "  \n",
    "# bat.jpg is the batman image. \n",
    "img = cv2.imread('road.jpg') \n",
    "   \n",
    "# make sure that you have saved it in the same folder \n",
    "# Averaging \n",
    "# You can change the kernel size as you want \n",
    "avging = cv2.blur(img,(10,10)) \n",
    "   \n",
    "cv2.imshow('Averaging',avging) \n",
    "cv2.waitKey(0) \n",
    "  \n",
    "# Gaussian Blurring \n",
    "# Again, you can change the kernel size \n",
    "gausBlur = cv2.GaussianBlur(img, (5,5),0)  \n",
    "cv2.imshow('Gaussian Blurring', gausBlur) \n",
    "cv2.waitKey(0) \n",
    "  \n",
    "# Median blurring \n",
    "medBlur = cv2.medianBlur(img,5) \n",
    "cv2.imshow('Media Blurring', medBlur) \n",
    "cv2.waitKey(0) \n",
    "  \n",
    "# Bilateral Filtering \n",
    "bilFilter = cv2.bilateralFilter(img,9,75,75) \n",
    "cv2.imshow('Bilateral Filtering', bilFilter) \n",
    "cv2.waitKey(0) \n",
    "cv2.destroyAllWindows() "
   ]
  },
  {
   "cell_type": "code",
   "execution_count": null,
   "metadata": {},
   "outputs": [],
   "source": []
  }
 ],
 "metadata": {
  "kernelspec": {
   "display_name": "Python 3",
   "language": "python",
   "name": "python3"
  },
  "language_info": {
   "codemirror_mode": {
    "name": "ipython",
    "version": 3
   },
   "file_extension": ".py",
   "mimetype": "text/x-python",
   "name": "python",
   "nbconvert_exporter": "python",
   "pygments_lexer": "ipython3",
   "version": "3.7.4"
  }
 },
 "nbformat": 4,
 "nbformat_minor": 2
}
