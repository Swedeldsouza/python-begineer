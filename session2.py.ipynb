{
 "cells": [
  {
   "cell_type": "code",
   "execution_count": 1,
   "metadata": {},
   "outputs": [
    {
     "name": "stdout",
     "output_type": "stream",
     "text": [
      "2\n"
     ]
    }
   ],
   "source": [
    "b=22\n",
    "print(b%10)  "
   ]
  },
  {
   "cell_type": "code",
   "execution_count": 6,
   "metadata": {},
   "outputs": [
    {
     "name": "stdout",
     "output_type": "stream",
     "text": [
      "Enter your name : Swedel\n",
      "Enter college name : Fr Conceicao Rodrigues College of Engineering\n",
      "Enter your age : 24\n",
      "Swedel is a student from Fr Conceicao Rodrigues College of Engineering and my age is 24\n"
     ]
    }
   ],
   "source": [
    "p1=input(\"Enter your name : \")\n",
    "p2=input(\"Enter college name : \")\n",
    "p3=int(input(\"Enter your age : \"))\n",
    "print(str(p1)+ \" is a student from \" +str(p2)+ \" and my age is \"+str(p3) )"
   ]
  },
  {
   "cell_type": "code",
   "execution_count": 71,
   "metadata": {
    "scrolled": true
   },
   "outputs": [
    {
     "name": "stdout",
     "output_type": "stream",
     "text": [
      "(3, 4)\n",
      "['apple', 'banana', 'Orange', 'cherry', False, (3, 4)]\n",
      "<class 'bool'>\n",
      "['banana', 'Orange']\n",
      "st\n",
      "['australia', 'canada', 'london', 'japan', 'korea']\n",
      "['australia', 'canada', 'london', 'japan', 'korea', 'sweden']\n",
      "['apple', 'banana', 'Swedel', 'cherry', False, (3, 4)]\n",
      "['apple', 'banana', 'cherry', False, (3, 4)]\n",
      "[0, 'banana', 'cherry', False, (3, 4)]\n",
      "[0, 'yellow', 3, 4, False, (3, 4)]\n",
      "[0, 0, 0, 0]\n"
     ]
    }
   ],
   "source": [
    "#data structures\n",
    "\n",
    "'''\n",
    "a way fo organising and storing data such that we can access \n",
    "and modify it efficiently.\n",
    "\n",
    "primitive data types like int,float,booleans and strings.\n",
    "\n",
    "........list is mutable........\n",
    "'''\n",
    "\n",
    "\n",
    "# lists/tuples/sets/dictionaries\n",
    "'''\n",
    "Python Lists\n",
    "list can be hetergeneous\n",
    "a. How to Declare Python List?\n",
    "b. How to Access Python List?\n",
    "  1. Accessing an entire list\n",
    "  2. Accessing a single item from the list\n",
    "    Positive Indexing\n",
    "    Negative Indexing\n",
    "  3. Slicing a Python List\n",
    "c. A list is mutable\n",
    "d. How to Delete a Python List?\n",
    "e. Reassigning a List in Python\n",
    "  1. Reassigning a single item\n",
    "  2. Reassigning a slice\n",
    "  3. Reassigning the entire list\n",
    "'''\n",
    "'''\n",
    "a. How to Declare Python List?\n",
    "'''\n",
    "list1=[\"apple\",\"banana\",\"Orange\",\"cherry\",False,(3,4)]\n",
    "print(list1[5]) \n",
    "\n",
    "\n",
    "''' \n",
    "b. How to Access Python List?\n",
    "1. Accessing an entire list\n",
    "'''\n",
    "print(list1)\n",
    "\n",
    "\n",
    "'''\n",
    "2. Accessing a single item from the list\n",
    "(a)Positive Indexing : begins at 0\n",
    "(b)Negative Indexing : begins at -1\n",
    "'''\n",
    "print(type(list1[-2]))\n",
    "\n",
    "\n",
    "'''\n",
    "3. Slicing a Python List\n",
    "'''\n",
    "print(list1[1:3])\n",
    "\n",
    "#fetch \"st\" from australia and replace india to canada\n",
    "list=[ \"australia\",\"india\",\"london\",\"japan\",\"korea\"]\n",
    "print(list[0][2:4])\n",
    "list[1]=\"canada\"\n",
    "print(list)\n",
    "\n",
    "\n",
    "#append to list \n",
    "list.append(\"sweden\")\n",
    "print(list)\n",
    "\n",
    "'''\n",
    "c. A list is mutable :ability to change ,possible to resign\n",
    "and delete individual items.\n",
    "'''\n",
    "list1[2]=\"Swedel\"\n",
    "print(list1)\n",
    "\n",
    "\n",
    "'''\n",
    "d. How to Delete a Python List?\n",
    "'''\n",
    "del list1[2]\n",
    "print(list1)\n",
    "\n",
    "\n",
    "\n",
    "'''\n",
    "e. Reassigning a List in Python\n",
    "1. Reassigning a single item\n",
    "'''\n",
    "list1[0]=0\n",
    "print(list1)\n",
    "\n",
    "\n",
    "'''\n",
    "2. Reassigning a slice\n",
    "'''\n",
    "list1[1:3]=[\"yellow\",3,4]\n",
    "print(list1)\n",
    "\n",
    "\n",
    "\n",
    "\n",
    "\n",
    "\n",
    "'''\n",
    "3. Reassigning the entire list\n",
    "'''\n",
    "list1=[0,0,0,0]\n",
    "print(list1)"
   ]
  },
  {
   "cell_type": "code",
   "execution_count": 52,
   "metadata": {
    "scrolled": true
   },
   "outputs": [
    {
     "name": "stdout",
     "output_type": "stream",
     "text": [
      "(1, 2, 3)\n",
      "1 2 3\n",
      "<class 'tuple'>\n"
     ]
    },
    {
     "ename": "TypeError",
     "evalue": "'tuple' object doesn't support item deletion",
     "output_type": "error",
     "traceback": [
      "\u001b[1;31m---------------------------------------------------------------------------\u001b[0m",
      "\u001b[1;31mTypeError\u001b[0m                                 Traceback (most recent call last)",
      "\u001b[1;32m<ipython-input-52-443a4a1fb4b2>\u001b[0m in \u001b[0;36m<module>\u001b[1;34m\u001b[0m\n\u001b[0;32m     50\u001b[0m '''\n\u001b[0;32m     51\u001b[0m \u001b[0mti\u001b[0m\u001b[1;33m=\u001b[0m\u001b[1;33m(\u001b[0m\u001b[1;36m1\u001b[0m\u001b[1;33m,\u001b[0m\u001b[1;36m2\u001b[0m\u001b[1;33m,\u001b[0m\u001b[1;36m3\u001b[0m\u001b[1;33m,\u001b[0m\u001b[1;36m5\u001b[0m\u001b[1;33m,\u001b[0m\u001b[1;36m6\u001b[0m\u001b[1;33m)\u001b[0m\u001b[1;33m\u001b[0m\u001b[1;33m\u001b[0m\u001b[0m\n\u001b[1;32m---> 52\u001b[1;33m \u001b[1;32mdel\u001b[0m \u001b[0mti\u001b[0m\u001b[1;33m[\u001b[0m\u001b[1;36m0\u001b[0m\u001b[1;33m]\u001b[0m\u001b[1;33m\u001b[0m\u001b[1;33m\u001b[0m\u001b[0m\n\u001b[0m\u001b[0;32m     53\u001b[0m \u001b[0mprint\u001b[0m\u001b[1;33m(\u001b[0m\u001b[0mti\u001b[0m\u001b[1;33m)\u001b[0m\u001b[1;33m\u001b[0m\u001b[1;33m\u001b[0m\u001b[0m\n",
      "\u001b[1;31mTypeError\u001b[0m: 'tuple' object doesn't support item deletion"
     ]
    }
   ],
   "source": [
    "#Python Tuple\n",
    "colors=('Red','Green','Blue')\n",
    "\n",
    "'''\n",
    "\n",
    "features\n",
    "1.tuple is immutable\n",
    "2.reassign and delete an entire tuple\n",
    "3.cannot do the same to a single item or slice\n",
    "(ordered and unchangeable)//written in rounded brackets\n",
    "'''\n",
    "\n",
    "\n",
    "'''\n",
    "a. Python Tuple Packing\n",
    "b. Python Tuple Unpacking\n",
    "c. Creating a tuple with a single item\n",
    "d. Accessing, Reassigning, and Deleting Items\n",
    "'''\n",
    "\n",
    "\n",
    "'''\n",
    "a. Python Tuple Packing : \n",
    "packing a sequence of values into a tuple without using parentheses.  \n",
    "'''\n",
    "tuple1=1,2,3\n",
    "print(tuple1)\n",
    "\n",
    "\n",
    "\n",
    "'''\n",
    "b. Python Tuple Unpacking :\n",
    "unpacking allots the values from a tuple into a\n",
    "sequence of variables.\n",
    "'''\n",
    "a,b,c=tuple1\n",
    "print(a,b,c)\n",
    "\n",
    "\n",
    "\n",
    "'''\n",
    "c. Creating a tuple with a single item\n",
    "'''\n",
    "a=(1,)\n",
    "print(type(a))\n",
    "\n",
    "\n",
    "'''\n",
    "d. Accessing, Reassigning, and Deleting Items\n",
    "                                \n",
    "                                  #error \n",
    "'''\n",
    "#tuple is immutable\n",
    "ti=(1,2,3,5,6)\n",
    "del ti[0]\n",
    "print(ti)                              \n"
   ]
  },
  {
   "cell_type": "code",
   "execution_count": 53,
   "metadata": {},
   "outputs": [
    {
     "data": {
      "text/plain": [
       "{1, 2, 3}"
      ]
     },
     "execution_count": 53,
     "metadata": {},
     "output_type": "execute_result"
    }
   ],
   "source": [
    "#python set\n",
    "\n",
    "\n",
    "'''\n",
    "Features\n",
    "1.rearranged the elements in an ascending order.\n",
    "2.set is unordered\n",
    "3.set is in curly brackets\n",
    "4.no indexing present here\n",
    "'''\n",
    "\n",
    "myset={3,1,2}\n",
    "myset\n",
    "\n",
    "\n",
    "\n",
    "'''\n",
    "we can't use indexing to access or delete its elements\n",
    "Python provides us with a list of functions and methods\n",
    "like discard(), pop(), clear(), remove(), add().\n",
    "Functions like len() and max() also apply on sets.\n",
    "\n",
    "'''\n",
    "\n"
   ]
  },
  {
   "cell_type": "code",
   "execution_count": 57,
   "metadata": {},
   "outputs": [
    {
     "name": "stdout",
     "output_type": "stream",
     "text": [
      "{1: 2, 2: 4, 3: 6}\n",
      "{'name': 'swedel', 'contact': '655949949', 'age': '88'}\n",
      "{'name': 'swedel', 'contact': '655949949', 'age': 34}\n",
      "{'name': 'swedel', 'contact': '655949949', 'age': 34, 'email': 'swedel.dsouza1996@gmail.com'}\n"
     ]
    }
   ],
   "source": [
    "#6. Python Dictionaries\n",
    "'''\n",
    "Features:\n",
    "1.curly and square brackets\n",
    "2.unordered data values\n",
    "3.they hold  key:value pair \n",
    "4.no duplicate members\n",
    "\n",
    "'''\n",
    "\n",
    "mydict={1:2,2:4,3:6}\n",
    "print(mydict)\n",
    "mydict[2]\n",
    "\n",
    "\n",
    "'''\n",
    "Python dictionary holds key-value pairs. However,\n",
    "you may not use an unhashable item as a key.\n",
    "'''\n",
    "mydictionary ={\"name\":\"swedel\",\"contact\":\"655949949\",\"age\":\"88\"}\n",
    "print(mydictionary)\n",
    "mydictionary[\"age\"]=34\n",
    "print(mydictionary)\n",
    "\n",
    "mydictionary [\"email\"]=\"swedel.dsouza1996@gmail.com\"\n",
    "print(mydictionary)"
   ]
  },
  {
   "cell_type": "code",
   "execution_count": 68,
   "metadata": {},
   "outputs": [
    {
     "name": "stdout",
     "output_type": "stream",
     "text": [
      "5\n",
      "[2, 3, 4, 5, 6, 2, 3, 4, 6]\n",
      "[2, 3, 4, 6, 2, 3, 4, 6, 2, 3, 4, 6, 2, 3, 4, 6]\n"
     ]
    }
   ],
   "source": [
    "#example     (List addition  and operation)\n",
    "li=[2,3,4,5,6]\n",
    "print(len(li))\n",
    "\n",
    "si=[2,3,4,6]\n",
    "print(li+si)             #concatenate\n",
    "\n",
    "\n",
    "print(si*4)             # si is repeated 4 times more\n",
    "\n",
    "\n",
    "\n"
   ]
  },
  {
   "cell_type": "code",
   "execution_count": 69,
   "metadata": {},
   "outputs": [
    {
     "name": "stdout",
     "output_type": "stream",
     "text": [
      "(3, 4, 5, 5, 4, 6, 6, 7)\n"
     ]
    },
    {
     "ename": "TypeError",
     "evalue": "'tuple' object doesn't support item deletion",
     "output_type": "error",
     "traceback": [
      "\u001b[1;31m---------------------------------------------------------------------------\u001b[0m",
      "\u001b[1;31mTypeError\u001b[0m                                 Traceback (most recent call last)",
      "\u001b[1;32m<ipython-input-69-e028a26b7226>\u001b[0m in \u001b[0;36m<module>\u001b[1;34m\u001b[0m\n\u001b[0;32m      6\u001b[0m \u001b[0mprint\u001b[0m\u001b[1;33m(\u001b[0m\u001b[0mmi\u001b[0m\u001b[1;33m+\u001b[0m\u001b[0mhi\u001b[0m\u001b[1;33m)\u001b[0m\u001b[1;33m\u001b[0m\u001b[1;33m\u001b[0m\u001b[0m\n\u001b[0;32m      7\u001b[0m \u001b[1;33m\u001b[0m\u001b[0m\n\u001b[1;32m----> 8\u001b[1;33m \u001b[1;32mdel\u001b[0m \u001b[0mhi\u001b[0m\u001b[1;33m[\u001b[0m\u001b[1;36m1\u001b[0m\u001b[1;33m]\u001b[0m\u001b[1;33m\u001b[0m\u001b[1;33m\u001b[0m\u001b[0m\n\u001b[0m\u001b[0;32m      9\u001b[0m \u001b[0mprint\u001b[0m\u001b[1;33m(\u001b[0m\u001b[0mhi\u001b[0m\u001b[1;33m)\u001b[0m\u001b[1;33m\u001b[0m\u001b[1;33m\u001b[0m\u001b[0m\n\u001b[0;32m     10\u001b[0m \u001b[0mprint\u001b[0m\u001b[1;33m(\u001b[0m\u001b[0mhi\u001b[0m\u001b[1;33m*\u001b[0m\u001b[1;36m4\u001b[0m\u001b[1;33m)\u001b[0m\u001b[1;33m\u001b[0m\u001b[1;33m\u001b[0m\u001b[0m\n",
      "\u001b[1;31mTypeError\u001b[0m: 'tuple' object doesn't support item deletion"
     ]
    }
   ],
   "source": [
    "#example 2   tuple addition  and deletion is not supported  and operation\n",
    "\n",
    "\n",
    "mi=(3,4,5,5)\n",
    "hi=(4,6,6,7)\n",
    "print(mi+hi)\n",
    "\n",
    "del hi[1]\n",
    "print(hi)\n",
    "print(hi*4)"
   ]
  },
  {
   "cell_type": "code",
   "execution_count": 78,
   "metadata": {},
   "outputs": [
    {
     "name": "stdout",
     "output_type": "stream",
     "text": [
      "[1, 2, 5, 8, 9]\n"
     ]
    }
   ],
   "source": [
    "'''\n",
    "list insert\n",
    "'''\n",
    "#insert\n",
    "mylist =[1,2,8,9 ]\n",
    "mylist.insert(2,5)\n",
    "print (mylist)"
   ]
  },
  {
   "cell_type": "code",
   "execution_count": 92,
   "metadata": {},
   "outputs": [
    {
     "name": "stdout",
     "output_type": "stream",
     "text": [
      "yt\n",
      "['python', 'six']\n",
      "[9, 10]\n"
     ]
    }
   ],
   "source": [
    "#list example\n",
    "ni=['one','two','three',['abc',2,3,[4,5,['four','five','python','six'],6,7],'seven',8],9,10]\n",
    "print(ni[3][3][2][2][1:3])\n",
    "print(ni[3][3][2][2:])\n",
    "print(ni[4:])"
   ]
  },
  {
   "cell_type": "code",
   "execution_count": null,
   "metadata": {},
   "outputs": [],
   "source": []
  },
  {
   "cell_type": "code",
   "execution_count": null,
   "metadata": {},
   "outputs": [],
   "source": []
  }
 ],
 "metadata": {
  "kernelspec": {
   "display_name": "Python 3",
   "language": "python",
   "name": "python3"
  },
  "language_info": {
   "codemirror_mode": {
    "name": "ipython",
    "version": 3
   },
   "file_extension": ".py",
   "mimetype": "text/x-python",
   "name": "python",
   "nbconvert_exporter": "python",
   "pygments_lexer": "ipython3",
   "version": "3.7.4"
  }
 },
 "nbformat": 4,
 "nbformat_minor": 2
}
